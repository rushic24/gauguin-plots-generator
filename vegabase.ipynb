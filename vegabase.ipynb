{
  "nbformat": 4,
  "nbformat_minor": 0,
  "metadata": {
    "colab": {
      "name": "vegabase.ipynb",
      "provenance": []
    },
    "kernelspec": {
      "name": "python3",
      "display_name": "Python 3"
    }
  },
  "cells": [
    {
      "cell_type": "code",
      "metadata": {
        "id": "TMeOR4mr-pG9",
        "colab_type": "code",
        "colab": {
          "base_uri": "https://localhost:8080/",
          "height": 221
        },
        "outputId": "9a12ba3b-e3c2-4443-c9fb-6f135882b6e8"
      },
      "source": [
        "!pip install altair vega_datasets\n",
        "!pip install altair_saver \n",
        "!pip install selenium\n",
        "!apt-get install chromium-chromedriver\n"
      ],
      "execution_count": 15,
      "outputs": [
        {
          "output_type": "stream",
          "text": [
            "Requirement already satisfied: altair in /usr/local/lib/python3.6/dist-packages (4.1.0)\n",
            "Requirement already satisfied: vega_datasets in /usr/local/lib/python3.6/dist-packages (0.8.0)\n",
            "Requirement already satisfied: numpy in /usr/local/lib/python3.6/dist-packages (from altair) (1.18.5)\n",
            "Requirement already satisfied: toolz in /usr/local/lib/python3.6/dist-packages (from altair) (0.10.0)\n",
            "Requirement already satisfied: jinja2 in /usr/local/lib/python3.6/dist-packages (from altair) (2.11.2)\n",
            "Requirement already satisfied: entrypoints in /usr/local/lib/python3.6/dist-packages (from altair) (0.3)\n",
            "Requirement already satisfied: jsonschema in /usr/local/lib/python3.6/dist-packages (from altair) (2.6.0)\n",
            "Requirement already satisfied: pandas>=0.18 in /usr/local/lib/python3.6/dist-packages (from altair) (1.0.5)\n",
            "Requirement already satisfied: MarkupSafe>=0.23 in /usr/local/lib/python3.6/dist-packages (from jinja2->altair) (1.1.1)\n",
            "Requirement already satisfied: python-dateutil>=2.6.1 in /usr/local/lib/python3.6/dist-packages (from pandas>=0.18->altair) (2.8.1)\n",
            "Requirement already satisfied: pytz>=2017.2 in /usr/local/lib/python3.6/dist-packages (from pandas>=0.18->altair) (2018.9)\n",
            "Requirement already satisfied: six>=1.5 in /usr/local/lib/python3.6/dist-packages (from python-dateutil>=2.6.1->pandas>=0.18->altair) (1.15.0)\n"
          ],
          "name": "stdout"
        }
      ]
    },
    {
      "cell_type": "code",
      "metadata": {
        "id": "9OdEJT6Ouu8d",
        "colab_type": "code",
        "colab": {
          "base_uri": "https://localhost:8080/",
          "height": 309
        },
        "outputId": "f96bf571-1e02-4df5-d8dd-9d062bc27840"
      },
      "source": [
        "import pandas as pd\n",
        "import numpy as np\n",
        "import altair as alt\n",
        "import matplotlib.pyplot as plt\n",
        "from collections import Counter\n",
        "\n",
        "\n",
        "df= pd.read_csv('cars93.csv')\n",
        "df.head()"
      ],
      "execution_count": 16,
      "outputs": [
        {
          "output_type": "execute_result",
          "data": {
            "text/html": [
              "<div>\n",
              "<style scoped>\n",
              "    .dataframe tbody tr th:only-of-type {\n",
              "        vertical-align: middle;\n",
              "    }\n",
              "\n",
              "    .dataframe tbody tr th {\n",
              "        vertical-align: top;\n",
              "    }\n",
              "\n",
              "    .dataframe thead th {\n",
              "        text-align: right;\n",
              "    }\n",
              "</style>\n",
              "<table border=\"1\" class=\"dataframe\">\n",
              "  <thead>\n",
              "    <tr style=\"text-align: right;\">\n",
              "      <th></th>\n",
              "      <th>Manufacturer</th>\n",
              "      <th>Model</th>\n",
              "      <th>Type</th>\n",
              "      <th>Min.Price</th>\n",
              "      <th>Price</th>\n",
              "      <th>Max.Price</th>\n",
              "      <th>MPG.city</th>\n",
              "      <th>MPG.highway</th>\n",
              "      <th>AirBags</th>\n",
              "      <th>DriveTrain</th>\n",
              "      <th>Cylinders</th>\n",
              "      <th>EngineSize</th>\n",
              "      <th>Horsepower</th>\n",
              "      <th>RPM</th>\n",
              "      <th>Rev.per.mile</th>\n",
              "      <th>Man.trans.avail</th>\n",
              "      <th>Fuel.tank.capacity</th>\n",
              "      <th>Passengers</th>\n",
              "      <th>Length</th>\n",
              "      <th>Wheelbase</th>\n",
              "      <th>Width</th>\n",
              "      <th>Turn.circle</th>\n",
              "      <th>Rear.seat.room</th>\n",
              "      <th>Luggage.room</th>\n",
              "      <th>Weight</th>\n",
              "      <th>Origin</th>\n",
              "      <th>Make</th>\n",
              "    </tr>\n",
              "  </thead>\n",
              "  <tbody>\n",
              "    <tr>\n",
              "      <th>0</th>\n",
              "      <td>Acura</td>\n",
              "      <td>Integra</td>\n",
              "      <td>Small</td>\n",
              "      <td>12.9</td>\n",
              "      <td>15.9</td>\n",
              "      <td>18.8</td>\n",
              "      <td>25</td>\n",
              "      <td>31</td>\n",
              "      <td>None</td>\n",
              "      <td>Front</td>\n",
              "      <td>4</td>\n",
              "      <td>1.8</td>\n",
              "      <td>140</td>\n",
              "      <td>6300</td>\n",
              "      <td>2890</td>\n",
              "      <td>Yes</td>\n",
              "      <td>13.2</td>\n",
              "      <td>5</td>\n",
              "      <td>177</td>\n",
              "      <td>102</td>\n",
              "      <td>68</td>\n",
              "      <td>37</td>\n",
              "      <td>26.5</td>\n",
              "      <td>11.0</td>\n",
              "      <td>2705</td>\n",
              "      <td>non-USA</td>\n",
              "      <td>Acura Integra</td>\n",
              "    </tr>\n",
              "    <tr>\n",
              "      <th>1</th>\n",
              "      <td>Acura</td>\n",
              "      <td>Legend</td>\n",
              "      <td>Midsize</td>\n",
              "      <td>29.2</td>\n",
              "      <td>33.9</td>\n",
              "      <td>38.7</td>\n",
              "      <td>18</td>\n",
              "      <td>25</td>\n",
              "      <td>Driver &amp; Passenger</td>\n",
              "      <td>Front</td>\n",
              "      <td>6</td>\n",
              "      <td>3.2</td>\n",
              "      <td>200</td>\n",
              "      <td>5500</td>\n",
              "      <td>2335</td>\n",
              "      <td>Yes</td>\n",
              "      <td>18.0</td>\n",
              "      <td>5</td>\n",
              "      <td>195</td>\n",
              "      <td>115</td>\n",
              "      <td>71</td>\n",
              "      <td>38</td>\n",
              "      <td>30.0</td>\n",
              "      <td>15.0</td>\n",
              "      <td>3560</td>\n",
              "      <td>non-USA</td>\n",
              "      <td>Acura Legend</td>\n",
              "    </tr>\n",
              "    <tr>\n",
              "      <th>2</th>\n",
              "      <td>Audi</td>\n",
              "      <td>90</td>\n",
              "      <td>Compact</td>\n",
              "      <td>25.9</td>\n",
              "      <td>29.1</td>\n",
              "      <td>32.3</td>\n",
              "      <td>20</td>\n",
              "      <td>26</td>\n",
              "      <td>Driver only</td>\n",
              "      <td>Front</td>\n",
              "      <td>6</td>\n",
              "      <td>2.8</td>\n",
              "      <td>172</td>\n",
              "      <td>5500</td>\n",
              "      <td>2280</td>\n",
              "      <td>Yes</td>\n",
              "      <td>16.9</td>\n",
              "      <td>5</td>\n",
              "      <td>180</td>\n",
              "      <td>102</td>\n",
              "      <td>67</td>\n",
              "      <td>37</td>\n",
              "      <td>28.0</td>\n",
              "      <td>14.0</td>\n",
              "      <td>3375</td>\n",
              "      <td>non-USA</td>\n",
              "      <td>Audi 90</td>\n",
              "    </tr>\n",
              "    <tr>\n",
              "      <th>3</th>\n",
              "      <td>Audi</td>\n",
              "      <td>100</td>\n",
              "      <td>Midsize</td>\n",
              "      <td>30.8</td>\n",
              "      <td>37.7</td>\n",
              "      <td>44.6</td>\n",
              "      <td>19</td>\n",
              "      <td>26</td>\n",
              "      <td>Driver &amp; Passenger</td>\n",
              "      <td>Front</td>\n",
              "      <td>6</td>\n",
              "      <td>2.8</td>\n",
              "      <td>172</td>\n",
              "      <td>5500</td>\n",
              "      <td>2535</td>\n",
              "      <td>Yes</td>\n",
              "      <td>21.1</td>\n",
              "      <td>6</td>\n",
              "      <td>193</td>\n",
              "      <td>106</td>\n",
              "      <td>70</td>\n",
              "      <td>37</td>\n",
              "      <td>31.0</td>\n",
              "      <td>17.0</td>\n",
              "      <td>3405</td>\n",
              "      <td>non-USA</td>\n",
              "      <td>Audi 100</td>\n",
              "    </tr>\n",
              "    <tr>\n",
              "      <th>4</th>\n",
              "      <td>BMW</td>\n",
              "      <td>535i</td>\n",
              "      <td>Midsize</td>\n",
              "      <td>23.7</td>\n",
              "      <td>30.0</td>\n",
              "      <td>36.2</td>\n",
              "      <td>22</td>\n",
              "      <td>30</td>\n",
              "      <td>Driver only</td>\n",
              "      <td>Rear</td>\n",
              "      <td>4</td>\n",
              "      <td>3.5</td>\n",
              "      <td>208</td>\n",
              "      <td>5700</td>\n",
              "      <td>2545</td>\n",
              "      <td>Yes</td>\n",
              "      <td>21.1</td>\n",
              "      <td>4</td>\n",
              "      <td>186</td>\n",
              "      <td>109</td>\n",
              "      <td>69</td>\n",
              "      <td>39</td>\n",
              "      <td>27.0</td>\n",
              "      <td>13.0</td>\n",
              "      <td>3640</td>\n",
              "      <td>non-USA</td>\n",
              "      <td>BMW 535i</td>\n",
              "    </tr>\n",
              "  </tbody>\n",
              "</table>\n",
              "</div>"
            ],
            "text/plain": [
              "  Manufacturer    Model     Type  ...  Weight   Origin           Make\n",
              "0        Acura  Integra    Small  ...    2705  non-USA  Acura Integra\n",
              "1        Acura   Legend  Midsize  ...    3560  non-USA   Acura Legend\n",
              "2         Audi       90  Compact  ...    3375  non-USA        Audi 90\n",
              "3         Audi      100  Midsize  ...    3405  non-USA       Audi 100\n",
              "4          BMW     535i  Midsize  ...    3640  non-USA       BMW 535i\n",
              "\n",
              "[5 rows x 27 columns]"
            ]
          },
          "metadata": {
            "tags": []
          },
          "execution_count": 16
        }
      ]
    },
    {
      "cell_type": "code",
      "metadata": {
        "id": "zCYFvplB_Jbn",
        "colab_type": "code",
        "colab": {}
      },
      "source": [
        ""
      ],
      "execution_count": 16,
      "outputs": []
    },
    {
      "cell_type": "code",
      "metadata": {
        "id": "3lEci265u37f",
        "colab_type": "code",
        "colab": {
          "base_uri": "https://localhost:8080/",
          "height": 170
        },
        "outputId": "c181c260-2392-4dcf-f4d1-a188f35c62b2"
      },
      "source": [
        "cols = df.columns\n",
        "categorical_cols=[]\n",
        "numerical_cols=[]\n",
        "for i in cols:\n",
        "  if df[i].dtype == \"object\":\n",
        "    categorical_cols.append(i)\n",
        "  else:\n",
        "    numerical_cols.append(i)\n",
        "categorical_cols"
      ],
      "execution_count": 17,
      "outputs": [
        {
          "output_type": "execute_result",
          "data": {
            "text/plain": [
              "['Manufacturer',\n",
              " 'Model',\n",
              " 'Type',\n",
              " 'AirBags',\n",
              " 'DriveTrain',\n",
              " 'Cylinders',\n",
              " 'Man.trans.avail',\n",
              " 'Origin',\n",
              " 'Make']"
            ]
          },
          "metadata": {
            "tags": []
          },
          "execution_count": 17
        }
      ]
    },
    {
      "cell_type": "code",
      "metadata": {
        "id": "bZrE8sGkFaaQ",
        "colab_type": "code",
        "colab": {}
      },
      "source": [
        ""
      ],
      "execution_count": 107,
      "outputs": []
    },
    {
      "cell_type": "code",
      "metadata": {
        "id": "_VnSMVE3vpFW",
        "colab_type": "code",
        "colab": {
          "base_uri": "https://localhost:8080/",
          "height": 1000
        },
        "outputId": "62c15802-6d6c-4547-eade-4e66338a7080"
      },
      "source": [
        "charts = []\n",
        "for i in categorical_cols:\n",
        "  count = Counter(df.copy()[i])\n",
        "  temp = pd.DataFrame.from_dict(count, orient='index').reset_index()\n",
        "  temp= temp.rename(columns= {\"index\": \"index\", 0: \"count\"})\n",
        "  charts.append(alt.Chart(temp).mark_bar().encode(\n",
        "    x='index',\n",
        "    y='count'\n",
        "    ))\n",
        "alt.vconcat(*charts)"
      ],
      "execution_count": 41,
      "outputs": [
        {
          "output_type": "execute_result",
          "data": {
            "text/plain": [
              "alt.VConcatChart(...)"
            ],
            "text/html": [
              "\n",
              "<div id=\"altair-viz-f1c6d7fff73a4b0e87e3a92bb9a2d444\"></div>\n",
              "<script type=\"text/javascript\">\n",
              "  (function(spec, embedOpt){\n",
              "    let outputDiv = document.currentScript.previousElementSibling;\n",
              "    if (outputDiv.id !== \"altair-viz-f1c6d7fff73a4b0e87e3a92bb9a2d444\") {\n",
              "      outputDiv = document.getElementById(\"altair-viz-f1c6d7fff73a4b0e87e3a92bb9a2d444\");\n",
              "    }\n",
              "    const paths = {\n",
              "      \"vega\": \"https://cdn.jsdelivr.net/npm//vega@5?noext\",\n",
              "      \"vega-lib\": \"https://cdn.jsdelivr.net/npm//vega-lib?noext\",\n",
              "      \"vega-lite\": \"https://cdn.jsdelivr.net/npm//vega-lite@4.8.1?noext\",\n",
              "      \"vega-embed\": \"https://cdn.jsdelivr.net/npm//vega-embed@6?noext\",\n",
              "    };\n",
              "\n",
              "    function loadScript(lib) {\n",
              "      return new Promise(function(resolve, reject) {\n",
              "        var s = document.createElement('script');\n",
              "        s.src = paths[lib];\n",
              "        s.async = true;\n",
              "        s.onload = () => resolve(paths[lib]);\n",
              "        s.onerror = () => reject(`Error loading script: ${paths[lib]}`);\n",
              "        document.getElementsByTagName(\"head\")[0].appendChild(s);\n",
              "      });\n",
              "    }\n",
              "\n",
              "    function showError(err) {\n",
              "      outputDiv.innerHTML = `<div class=\"error\" style=\"color:red;\">${err}</div>`;\n",
              "      throw err;\n",
              "    }\n",
              "\n",
              "    function displayChart(vegaEmbed) {\n",
              "      vegaEmbed(outputDiv, spec, embedOpt)\n",
              "        .catch(err => showError(`Javascript Error: ${err.message}<br>This usually means there's a typo in your chart specification. See the javascript console for the full traceback.`));\n",
              "    }\n",
              "\n",
              "    if(typeof define === \"function\" && define.amd) {\n",
              "      requirejs.config({paths});\n",
              "      require([\"vega-embed\"], displayChart, err => showError(`Error loading script: ${err.message}`));\n",
              "    } else if (typeof vegaEmbed === \"function\") {\n",
              "      displayChart(vegaEmbed);\n",
              "    } else {\n",
              "      loadScript(\"vega\")\n",
              "        .then(() => loadScript(\"vega-lite\"))\n",
              "        .then(() => loadScript(\"vega-embed\"))\n",
              "        .catch(showError)\n",
              "        .then(() => displayChart(vegaEmbed));\n",
              "    }\n",
              "  })({\"config\": {\"view\": {\"continuousWidth\": 400, \"continuousHeight\": 300}}, \"vconcat\": [{\"data\": {\"name\": \"data-4d26862b0fb5af1fc1b666506f7b7b27\"}, \"mark\": \"bar\", \"encoding\": {\"x\": {\"type\": \"nominal\", \"field\": \"index\"}, \"y\": {\"type\": \"quantitative\", \"field\": \"count\"}}}, {\"data\": {\"name\": \"data-3628efaf907ed2cfc9045b472b721f31\"}, \"mark\": \"bar\", \"encoding\": {\"x\": {\"type\": \"nominal\", \"field\": \"index\"}, \"y\": {\"type\": \"quantitative\", \"field\": \"count\"}}}, {\"data\": {\"name\": \"data-2b06b7fcbc3f37e72dcedf874a7eca5f\"}, \"mark\": \"bar\", \"encoding\": {\"x\": {\"type\": \"nominal\", \"field\": \"index\"}, \"y\": {\"type\": \"quantitative\", \"field\": \"count\"}}}, {\"data\": {\"name\": \"data-73bcb2703c119d1087f737c0fb04f90b\"}, \"mark\": \"bar\", \"encoding\": {\"x\": {\"type\": \"nominal\", \"field\": \"index\"}, \"y\": {\"type\": \"quantitative\", \"field\": \"count\"}}}, {\"data\": {\"name\": \"data-82eac10bd585ae36628fd6ce8ec2e857\"}, \"mark\": \"bar\", \"encoding\": {\"x\": {\"type\": \"nominal\", \"field\": \"index\"}, \"y\": {\"type\": \"quantitative\", \"field\": \"count\"}}}, {\"data\": {\"name\": \"data-23b14deb3b6f7f5e430ea33f7e8fb3fa\"}, \"mark\": \"bar\", \"encoding\": {\"x\": {\"type\": \"nominal\", \"field\": \"index\"}, \"y\": {\"type\": \"quantitative\", \"field\": \"count\"}}}, {\"data\": {\"name\": \"data-d3e0e94eb01508caed87e8eac5e6990f\"}, \"mark\": \"bar\", \"encoding\": {\"x\": {\"type\": \"nominal\", \"field\": \"index\"}, \"y\": {\"type\": \"quantitative\", \"field\": \"count\"}}}, {\"data\": {\"name\": \"data-a841dfc4b97252f947732c3076bd3b03\"}, \"mark\": \"bar\", \"encoding\": {\"x\": {\"type\": \"nominal\", \"field\": \"index\"}, \"y\": {\"type\": \"quantitative\", \"field\": \"count\"}}}, {\"data\": {\"name\": \"data-c9308cec4b56af6bc5f640a0f96d8443\"}, \"mark\": \"bar\", \"encoding\": {\"x\": {\"type\": \"nominal\", \"field\": \"index\"}, \"y\": {\"type\": \"quantitative\", \"field\": \"count\"}}}], \"$schema\": \"https://vega.github.io/schema/vega-lite/v4.8.1.json\", \"datasets\": {\"data-4d26862b0fb5af1fc1b666506f7b7b27\": [{\"index\": \"Acura\", \"count\": 2}, {\"index\": \"Audi\", \"count\": 2}, {\"index\": \"BMW\", \"count\": 1}, {\"index\": \"Buick\", \"count\": 4}, {\"index\": \"Cadillac\", \"count\": 2}, {\"index\": \"Chevrolet\", \"count\": 8}, {\"index\": \"Chrylser\", \"count\": 1}, {\"index\": \"Chrysler\", \"count\": 2}, {\"index\": \"Dodge\", \"count\": 6}, {\"index\": \"Eagle\", \"count\": 2}, {\"index\": \"Ford\", \"count\": 8}, {\"index\": \"Geo\", \"count\": 2}, {\"index\": \"Honda\", \"count\": 3}, {\"index\": \"Hyundai\", \"count\": 4}, {\"index\": \"Infiniti\", \"count\": 1}, {\"index\": \"Lexus\", \"count\": 2}, {\"index\": \"Lincoln\", \"count\": 2}, {\"index\": \"Mazda\", \"count\": 5}, {\"index\": \"Mercedes-Benz\", \"count\": 2}, {\"index\": \"Mercury\", \"count\": 2}, {\"index\": \"Mitsubishi\", \"count\": 2}, {\"index\": \"Nissan\", \"count\": 4}, {\"index\": \"Oldsmobile\", \"count\": 4}, {\"index\": \"Plymouth\", \"count\": 1}, {\"index\": \"Pontiac\", \"count\": 5}, {\"index\": \"Saab\", \"count\": 1}, {\"index\": \"Saturn\", \"count\": 1}, {\"index\": \"Subaru\", \"count\": 3}, {\"index\": \"Suzuki\", \"count\": 1}, {\"index\": \"Toyota\", \"count\": 4}, {\"index\": \"Volkswagen\", \"count\": 4}, {\"index\": \"Volvo\", \"count\": 2}], \"data-3628efaf907ed2cfc9045b472b721f31\": [{\"index\": \"Integra\", \"count\": 1}, {\"index\": \"Legend\", \"count\": 1}, {\"index\": \"90\", \"count\": 1}, {\"index\": \"100\", \"count\": 1}, {\"index\": \"535i\", \"count\": 1}, {\"index\": \"Century\", \"count\": 1}, {\"index\": \"LeSabre\", \"count\": 1}, {\"index\": \"Roadmaster\", \"count\": 1}, {\"index\": \"Riviera\", \"count\": 1}, {\"index\": \"DeVille\", \"count\": 1}, {\"index\": \"Seville\", \"count\": 1}, {\"index\": \"Cavalier\", \"count\": 1}, {\"index\": \"Corsica\", \"count\": 1}, {\"index\": \"Camaro\", \"count\": 1}, {\"index\": \"Lumina\", \"count\": 1}, {\"index\": \"Lumina_APV\", \"count\": 1}, {\"index\": \"Astro\", \"count\": 1}, {\"index\": \"Caprice\", \"count\": 1}, {\"index\": \"Corvette\", \"count\": 1}, {\"index\": \"Concorde\", \"count\": 1}, {\"index\": \"LeBaron\", \"count\": 1}, {\"index\": \"Imperial\", \"count\": 1}, {\"index\": \"Colt\", \"count\": 1}, {\"index\": \"Shadow\", \"count\": 1}, {\"index\": \"Spirit\", \"count\": 1}, {\"index\": \"Caravan\", \"count\": 1}, {\"index\": \"Dynasty\", \"count\": 1}, {\"index\": \"Stealth\", \"count\": 1}, {\"index\": \"Summit\", \"count\": 1}, {\"index\": \"Vision\", \"count\": 1}, {\"index\": \"Festiva\", \"count\": 1}, {\"index\": \"Escort\", \"count\": 1}, {\"index\": \"Tempo\", \"count\": 1}, {\"index\": \"Mustang\", \"count\": 1}, {\"index\": \"Probe\", \"count\": 1}, {\"index\": \"Aerostar\", \"count\": 1}, {\"index\": \"Taurus\", \"count\": 1}, {\"index\": \"Crown_Victoria\", \"count\": 1}, {\"index\": \"Metro\", \"count\": 1}, {\"index\": \"Storm\", \"count\": 1}, {\"index\": \"Prelude\", \"count\": 1}, {\"index\": \"Civic\", \"count\": 1}, {\"index\": \"Accord\", \"count\": 1}, {\"index\": \"Excel\", \"count\": 1}, {\"index\": \"Elantra\", \"count\": 1}, {\"index\": \"Scoupe\", \"count\": 1}, {\"index\": \"Sonata\", \"count\": 1}, {\"index\": \"Q45\", \"count\": 1}, {\"index\": \"ES300\", \"count\": 1}, {\"index\": \"SC300\", \"count\": 1}, {\"index\": \"Continental\", \"count\": 1}, {\"index\": \"Town_Car\", \"count\": 1}, {\"index\": \"323\", \"count\": 1}, {\"index\": \"Protege\", \"count\": 1}, {\"index\": \"626\", \"count\": 1}, {\"index\": \"MPV\", \"count\": 1}, {\"index\": \"RX-7\", \"count\": 1}, {\"index\": \"190E\", \"count\": 1}, {\"index\": \"300E\", \"count\": 1}, {\"index\": \"Capri\", \"count\": 1}, {\"index\": \"Cougar\", \"count\": 1}, {\"index\": \"Mirage\", \"count\": 1}, {\"index\": \"Diamante\", \"count\": 1}, {\"index\": \"Sentra\", \"count\": 1}, {\"index\": \"Altima\", \"count\": 1}, {\"index\": \"Quest\", \"count\": 1}, {\"index\": \"Maxima\", \"count\": 1}, {\"index\": \"Achieva\", \"count\": 1}, {\"index\": \"Cutlass_Ciera\", \"count\": 1}, {\"index\": \"Silhouette\", \"count\": 1}, {\"index\": \"Eighty-Eight\", \"count\": 1}, {\"index\": \"Laser\", \"count\": 1}, {\"index\": \"LeMans\", \"count\": 1}, {\"index\": \"Sunbird\", \"count\": 1}, {\"index\": \"Firebird\", \"count\": 1}, {\"index\": \"Grand_Prix\", \"count\": 1}, {\"index\": \"Bonneville\", \"count\": 1}, {\"index\": \"900\", \"count\": 1}, {\"index\": \"SL\", \"count\": 1}, {\"index\": \"Justy\", \"count\": 1}, {\"index\": \"Loyale\", \"count\": 1}, {\"index\": \"Legacy\", \"count\": 1}, {\"index\": \"Swift\", \"count\": 1}, {\"index\": \"Tercel\", \"count\": 1}, {\"index\": \"Celica\", \"count\": 1}, {\"index\": \"Camry\", \"count\": 1}, {\"index\": \"Previa\", \"count\": 1}, {\"index\": \"Fox\", \"count\": 1}, {\"index\": \"Eurovan\", \"count\": 1}, {\"index\": \"Passat\", \"count\": 1}, {\"index\": \"Corrado\", \"count\": 1}, {\"index\": \"240\", \"count\": 1}, {\"index\": \"850\", \"count\": 1}], \"data-2b06b7fcbc3f37e72dcedf874a7eca5f\": [{\"index\": \"Small\", \"count\": 21}, {\"index\": \"Midsize\", \"count\": 22}, {\"index\": \"Compact\", \"count\": 16}, {\"index\": \"Large\", \"count\": 11}, {\"index\": \"Sporty\", \"count\": 14}, {\"index\": \"Van\", \"count\": 9}], \"data-73bcb2703c119d1087f737c0fb04f90b\": [{\"index\": \"None\", \"count\": 34}, {\"index\": \"Driver & Passenger\", \"count\": 16}, {\"index\": \"Driver only\", \"count\": 43}], \"data-82eac10bd585ae36628fd6ce8ec2e857\": [{\"index\": \"Front\", \"count\": 67}, {\"index\": \"Rear\", \"count\": 16}, {\"index\": \"4WD\", \"count\": 10}], \"data-23b14deb3b6f7f5e430ea33f7e8fb3fa\": [{\"index\": \"4\", \"count\": 49}, {\"index\": \"6\", \"count\": 31}, {\"index\": \"8\", \"count\": 7}, {\"index\": \"3\", \"count\": 3}, {\"index\": \"rotary\", \"count\": 1}, {\"index\": \"5\", \"count\": 2}], \"data-d3e0e94eb01508caed87e8eac5e6990f\": [{\"index\": \"Yes\", \"count\": 61}, {\"index\": \"No\", \"count\": 32}], \"data-a841dfc4b97252f947732c3076bd3b03\": [{\"index\": \"non-USA\", \"count\": 45}, {\"index\": \"USA\", \"count\": 48}], \"data-c9308cec4b56af6bc5f640a0f96d8443\": [{\"index\": \"Acura Integra\", \"count\": 1}, {\"index\": \"Acura Legend\", \"count\": 1}, {\"index\": \"Audi 90\", \"count\": 1}, {\"index\": \"Audi 100\", \"count\": 1}, {\"index\": \"BMW 535i\", \"count\": 1}, {\"index\": \"Buick Century\", \"count\": 1}, {\"index\": \"Buick LeSabre\", \"count\": 1}, {\"index\": \"Buick Roadmaster\", \"count\": 1}, {\"index\": \"Buick Riviera\", \"count\": 1}, {\"index\": \"Cadillac DeVille\", \"count\": 1}, {\"index\": \"Cadillac Seville\", \"count\": 1}, {\"index\": \"Chevrolet Cavalier\", \"count\": 1}, {\"index\": \"Chevrolet Corsica\", \"count\": 1}, {\"index\": \"Chevrolet Camaro\", \"count\": 1}, {\"index\": \"Chevrolet Lumina\", \"count\": 1}, {\"index\": \"Chevrolet Lumina_APV\", \"count\": 1}, {\"index\": \"Chevrolet Astro\", \"count\": 1}, {\"index\": \"Chevrolet Caprice\", \"count\": 1}, {\"index\": \"Chevrolet Corvette\", \"count\": 1}, {\"index\": \"Chrylser Concorde\", \"count\": 1}, {\"index\": \"Chrysler LeBaron\", \"count\": 1}, {\"index\": \"Chrysler Imperial\", \"count\": 1}, {\"index\": \"Dodge Colt\", \"count\": 1}, {\"index\": \"Dodge Shadow\", \"count\": 1}, {\"index\": \"Dodge Spirit\", \"count\": 1}, {\"index\": \"Dodge Caravan\", \"count\": 1}, {\"index\": \"Dodge Dynasty\", \"count\": 1}, {\"index\": \"Dodge Stealth\", \"count\": 1}, {\"index\": \"Eagle Summit\", \"count\": 1}, {\"index\": \"Eagle Vision\", \"count\": 1}, {\"index\": \"Ford Festiva\", \"count\": 1}, {\"index\": \"Ford Escort\", \"count\": 1}, {\"index\": \"Ford Tempo\", \"count\": 1}, {\"index\": \"Ford Mustang\", \"count\": 1}, {\"index\": \"Ford Probe\", \"count\": 1}, {\"index\": \"Ford Aerostar\", \"count\": 1}, {\"index\": \"Ford Taurus\", \"count\": 1}, {\"index\": \"Ford Crown_Victoria\", \"count\": 1}, {\"index\": \"Geo Metro\", \"count\": 1}, {\"index\": \"Geo Storm\", \"count\": 1}, {\"index\": \"Honda Prelude\", \"count\": 1}, {\"index\": \"Honda Civic\", \"count\": 1}, {\"index\": \"Honda Accord\", \"count\": 1}, {\"index\": \"Hyundai Excel\", \"count\": 1}, {\"index\": \"Hyundai Elantra\", \"count\": 1}, {\"index\": \"Hyundai Scoupe\", \"count\": 1}, {\"index\": \"Hyundai Sonata\", \"count\": 1}, {\"index\": \"Infiniti Q45\", \"count\": 1}, {\"index\": \"Lexus ES300\", \"count\": 1}, {\"index\": \"Lexus SC300\", \"count\": 1}, {\"index\": \"Lincoln Continental\", \"count\": 1}, {\"index\": \"Lincoln Town_Car\", \"count\": 1}, {\"index\": \"Mazda 323\", \"count\": 1}, {\"index\": \"Mazda Protege\", \"count\": 1}, {\"index\": \"Mazda 626\", \"count\": 1}, {\"index\": \"Mazda MPV\", \"count\": 1}, {\"index\": \"Mazda RX-7\", \"count\": 1}, {\"index\": \"Mercedes-Benz 190E\", \"count\": 1}, {\"index\": \"Mercedes-Benz 300E\", \"count\": 1}, {\"index\": \"Mercury Capri\", \"count\": 1}, {\"index\": \"Mercury Cougar\", \"count\": 1}, {\"index\": \"Mitsubishi Mirage\", \"count\": 1}, {\"index\": \"Mitsubishi Diamante\", \"count\": 1}, {\"index\": \"Nissan Sentra\", \"count\": 1}, {\"index\": \"Nissan Altima\", \"count\": 1}, {\"index\": \"Nissan Quest\", \"count\": 1}, {\"index\": \"Nissan Maxima\", \"count\": 1}, {\"index\": \"Oldsmobile Achieva\", \"count\": 1}, {\"index\": \"Oldsmobile Cutlass_Ciera\", \"count\": 1}, {\"index\": \"Oldsmobile Silhouette\", \"count\": 1}, {\"index\": \"Oldsmobile Eighty-Eight\", \"count\": 1}, {\"index\": \"Plymouth Laser\", \"count\": 1}, {\"index\": \"Pontiac LeMans\", \"count\": 1}, {\"index\": \"Pontiac Sunbird\", \"count\": 1}, {\"index\": \"Pontiac Firebird\", \"count\": 1}, {\"index\": \"Pontiac Grand_Prix\", \"count\": 1}, {\"index\": \"Pontiac Bonneville\", \"count\": 1}, {\"index\": \"Saab 900\", \"count\": 1}, {\"index\": \"Saturn SL\", \"count\": 1}, {\"index\": \"Subaru Justy\", \"count\": 1}, {\"index\": \"Subaru Loyale\", \"count\": 1}, {\"index\": \"Subaru Legacy\", \"count\": 1}, {\"index\": \"Suzuki Swift\", \"count\": 1}, {\"index\": \"Toyota Tercel\", \"count\": 1}, {\"index\": \"Toyota Celica\", \"count\": 1}, {\"index\": \"Toyota Camry\", \"count\": 1}, {\"index\": \"Toyota Previa\", \"count\": 1}, {\"index\": \"Volkswagen Fox\", \"count\": 1}, {\"index\": \"Volkswagen Eurovan\", \"count\": 1}, {\"index\": \"Volkswagen Passat\", \"count\": 1}, {\"index\": \"Volkswagen Corrado\", \"count\": 1}, {\"index\": \"Volvo 240\", \"count\": 1}, {\"index\": \"Volvo 850\", \"count\": 1}]}}, {\"mode\": \"vega-lite\"});\n",
              "</script>"
            ]
          },
          "metadata": {
            "tags": []
          },
          "execution_count": 41
        }
      ]
    },
    {
      "cell_type": "code",
      "metadata": {
        "id": "hLEPn5ODI19B",
        "colab_type": "code",
        "colab": {}
      },
      "source": [
        "# temp = df.copy()['Min.Price']\n",
        "# count = Counter(temp)\n",
        "# #temp=temp.apply(lambda lst: dict({\"Length\":lst}))\n",
        "# temp = pd.DataFrame.from_dict({'MinPrice': temp})\n",
        "# alt.Chart(temp).mark_bar().encode(\n",
        "#     alt.X(\"MinPrice\", bin = True),\n",
        "#     y = 'count()',\n",
        "# )\n"
      ],
      "execution_count": 108,
      "outputs": []
    },
    {
      "cell_type": "code",
      "metadata": {
        "id": "copeCDRGxDAW",
        "colab_type": "code",
        "colab": {}
      },
      "source": [
        ""
      ],
      "execution_count": 91,
      "outputs": []
    },
    {
      "cell_type": "code",
      "metadata": {
        "id": "2EXjPYwDxmob",
        "colab_type": "code",
        "colab": {
          "base_uri": "https://localhost:8080/",
          "height": 323
        },
        "outputId": "fb02fa51-f23f-46ca-8cb4-7d4adb9e62be"
      },
      "source": [
        "numerical_cols"
      ],
      "execution_count": 8,
      "outputs": [
        {
          "output_type": "execute_result",
          "data": {
            "text/plain": [
              "['Min.Price',\n",
              " 'Price',\n",
              " 'Max.Price',\n",
              " 'MPG.city',\n",
              " 'MPG.highway',\n",
              " 'EngineSize',\n",
              " 'Horsepower',\n",
              " 'RPM',\n",
              " 'Rev.per.mile',\n",
              " 'Fuel.tank.capacity',\n",
              " 'Passengers',\n",
              " 'Length',\n",
              " 'Wheelbase',\n",
              " 'Width',\n",
              " 'Turn.circle',\n",
              " 'Rear.seat.room',\n",
              " 'Luggage.room',\n",
              " 'Weight']"
            ]
          },
          "metadata": {
            "tags": []
          },
          "execution_count": 8
        }
      ]
    },
    {
      "cell_type": "code",
      "metadata": {
        "id": "cmB5JcXnPikC",
        "colab_type": "code",
        "colab": {
          "base_uri": "https://localhost:8080/",
          "height": 1000
        },
        "outputId": "312e470c-a8a6-4098-ba02-6ad218a537c9"
      },
      "source": [
        "charts = []\n",
        "for i in numerical_cols:\n",
        "  temp = df.copy()[i]\n",
        "  filtered_column_name= ''.join(x for x in i if x.isalpha() or x.isnumeric())\n",
        "  temp = pd.DataFrame.from_dict({filtered_column_name: temp})\n",
        "  chrt = alt.Chart(temp).mark_bar().encode(\n",
        "      alt.X(filtered_column_name, bin = True),\n",
        "      y = 'count()',\n",
        "  )\n",
        "  chrt.save('histogram_'+filtered_column_name+'.png')\n",
        "  chrt.save('histogram_'+filtered_column_name+'.json')\n",
        "  charts.append(chrt)\n",
        "alt.vconcat(*charts)\n"
      ],
      "execution_count": 109,
      "outputs": [
        {
          "output_type": "execute_result",
          "data": {
            "text/plain": [
              "alt.VConcatChart(...)"
            ],
            "text/html": [
              "\n",
              "<div id=\"altair-viz-75c83ff601654dc581d0c1cd1f078ad1\"></div>\n",
              "<script type=\"text/javascript\">\n",
              "  (function(spec, embedOpt){\n",
              "    let outputDiv = document.currentScript.previousElementSibling;\n",
              "    if (outputDiv.id !== \"altair-viz-75c83ff601654dc581d0c1cd1f078ad1\") {\n",
              "      outputDiv = document.getElementById(\"altair-viz-75c83ff601654dc581d0c1cd1f078ad1\");\n",
              "    }\n",
              "    const paths = {\n",
              "      \"vega\": \"https://cdn.jsdelivr.net/npm//vega@5?noext\",\n",
              "      \"vega-lib\": \"https://cdn.jsdelivr.net/npm//vega-lib?noext\",\n",
              "      \"vega-lite\": \"https://cdn.jsdelivr.net/npm//vega-lite@4.8.1?noext\",\n",
              "      \"vega-embed\": \"https://cdn.jsdelivr.net/npm//vega-embed@6?noext\",\n",
              "    };\n",
              "\n",
              "    function loadScript(lib) {\n",
              "      return new Promise(function(resolve, reject) {\n",
              "        var s = document.createElement('script');\n",
              "        s.src = paths[lib];\n",
              "        s.async = true;\n",
              "        s.onload = () => resolve(paths[lib]);\n",
              "        s.onerror = () => reject(`Error loading script: ${paths[lib]}`);\n",
              "        document.getElementsByTagName(\"head\")[0].appendChild(s);\n",
              "      });\n",
              "    }\n",
              "\n",
              "    function showError(err) {\n",
              "      outputDiv.innerHTML = `<div class=\"error\" style=\"color:red;\">${err}</div>`;\n",
              "      throw err;\n",
              "    }\n",
              "\n",
              "    function displayChart(vegaEmbed) {\n",
              "      vegaEmbed(outputDiv, spec, embedOpt)\n",
              "        .catch(err => showError(`Javascript Error: ${err.message}<br>This usually means there's a typo in your chart specification. See the javascript console for the full traceback.`));\n",
              "    }\n",
              "\n",
              "    if(typeof define === \"function\" && define.amd) {\n",
              "      requirejs.config({paths});\n",
              "      require([\"vega-embed\"], displayChart, err => showError(`Error loading script: ${err.message}`));\n",
              "    } else if (typeof vegaEmbed === \"function\") {\n",
              "      displayChart(vegaEmbed);\n",
              "    } else {\n",
              "      loadScript(\"vega\")\n",
              "        .then(() => loadScript(\"vega-lite\"))\n",
              "        .then(() => loadScript(\"vega-embed\"))\n",
              "        .catch(showError)\n",
              "        .then(() => displayChart(vegaEmbed));\n",
              "    }\n",
              "  })({\"config\": {\"view\": {\"continuousWidth\": 400, \"continuousHeight\": 300}}, \"vconcat\": [{\"data\": {\"name\": \"data-cafcccdfa6bd686cf2072ffb1e38fcee\"}, \"mark\": \"bar\", \"encoding\": {\"x\": {\"type\": \"quantitative\", \"bin\": true, \"field\": \"MinPrice\"}, \"y\": {\"type\": \"quantitative\", \"aggregate\": \"count\"}}}, {\"data\": {\"name\": \"data-39b74fa368192dd0d919839391dd816b\"}, \"mark\": \"bar\", \"encoding\": {\"x\": {\"type\": \"quantitative\", \"bin\": true, \"field\": \"Price\"}, \"y\": {\"type\": \"quantitative\", \"aggregate\": \"count\"}}}, {\"data\": {\"name\": \"data-414a035d06a3e979925ec69f6f6c63de\"}, \"mark\": \"bar\", \"encoding\": {\"x\": {\"type\": \"quantitative\", \"bin\": true, \"field\": \"MaxPrice\"}, \"y\": {\"type\": \"quantitative\", \"aggregate\": \"count\"}}}, {\"data\": {\"name\": \"data-56c06308c0df6dd8e8548e421ad941c7\"}, \"mark\": \"bar\", \"encoding\": {\"x\": {\"type\": \"quantitative\", \"bin\": true, \"field\": \"MPGcity\"}, \"y\": {\"type\": \"quantitative\", \"aggregate\": \"count\"}}}, {\"data\": {\"name\": \"data-276d91f2848d866130f1dd663f12692d\"}, \"mark\": \"bar\", \"encoding\": {\"x\": {\"type\": \"quantitative\", \"bin\": true, \"field\": \"MPGhighway\"}, \"y\": {\"type\": \"quantitative\", \"aggregate\": \"count\"}}}, {\"data\": {\"name\": \"data-7599a5fb7c5682a078a74ea42c4bf91e\"}, \"mark\": \"bar\", \"encoding\": {\"x\": {\"type\": \"quantitative\", \"bin\": true, \"field\": \"EngineSize\"}, \"y\": {\"type\": \"quantitative\", \"aggregate\": \"count\"}}}, {\"data\": {\"name\": \"data-5b9e453bd65038efce4b35ee998aeeee\"}, \"mark\": \"bar\", \"encoding\": {\"x\": {\"type\": \"quantitative\", \"bin\": true, \"field\": \"Horsepower\"}, \"y\": {\"type\": \"quantitative\", \"aggregate\": \"count\"}}}, {\"data\": {\"name\": \"data-d2c915a8b059b978f62ea25ae75bd7fd\"}, \"mark\": \"bar\", \"encoding\": {\"x\": {\"type\": \"quantitative\", \"bin\": true, \"field\": \"RPM\"}, \"y\": {\"type\": \"quantitative\", \"aggregate\": \"count\"}}}, {\"data\": {\"name\": \"data-13de0785be6e1cff57718194910e0018\"}, \"mark\": \"bar\", \"encoding\": {\"x\": {\"type\": \"quantitative\", \"bin\": true, \"field\": \"Revpermile\"}, \"y\": {\"type\": \"quantitative\", \"aggregate\": \"count\"}}}, {\"data\": {\"name\": \"data-e4cab2bc63e7626df3f469c9ff38cfb0\"}, \"mark\": \"bar\", \"encoding\": {\"x\": {\"type\": \"quantitative\", \"bin\": true, \"field\": \"Fueltankcapacity\"}, \"y\": {\"type\": \"quantitative\", \"aggregate\": \"count\"}}}, {\"data\": {\"name\": \"data-e5dffe8b2365bd34af70009623ae143e\"}, \"mark\": \"bar\", \"encoding\": {\"x\": {\"type\": \"quantitative\", \"bin\": true, \"field\": \"Passengers\"}, \"y\": {\"type\": \"quantitative\", \"aggregate\": \"count\"}}}, {\"data\": {\"name\": \"data-614525544d4ccc8b1e8f752c545c48b9\"}, \"mark\": \"bar\", \"encoding\": {\"x\": {\"type\": \"quantitative\", \"bin\": true, \"field\": \"Length\"}, \"y\": {\"type\": \"quantitative\", \"aggregate\": \"count\"}}}, {\"data\": {\"name\": \"data-81e0d9c53c9d23ec74914abeb9d00775\"}, \"mark\": \"bar\", \"encoding\": {\"x\": {\"type\": \"quantitative\", \"bin\": true, \"field\": \"Wheelbase\"}, \"y\": {\"type\": \"quantitative\", \"aggregate\": \"count\"}}}, {\"data\": {\"name\": \"data-df9bc53844cc0eb63e7849cf298de456\"}, \"mark\": \"bar\", \"encoding\": {\"x\": {\"type\": \"quantitative\", \"bin\": true, \"field\": \"Width\"}, \"y\": {\"type\": \"quantitative\", \"aggregate\": \"count\"}}}, {\"data\": {\"name\": \"data-3a656365d78836c4d2106a284df15d00\"}, \"mark\": \"bar\", \"encoding\": {\"x\": {\"type\": \"quantitative\", \"bin\": true, \"field\": \"Turncircle\"}, \"y\": {\"type\": \"quantitative\", \"aggregate\": \"count\"}}}, {\"data\": {\"name\": \"data-0b863434ebfec0387ee28a45b92a687e\"}, \"mark\": \"bar\", \"encoding\": {\"x\": {\"type\": \"quantitative\", \"bin\": true, \"field\": \"Rearseatroom\"}, \"y\": {\"type\": \"quantitative\", \"aggregate\": \"count\"}}}, {\"data\": {\"name\": \"data-5714835be3da649cfb576ebfd53eb2cb\"}, \"mark\": \"bar\", \"encoding\": {\"x\": {\"type\": \"quantitative\", \"bin\": true, \"field\": \"Luggageroom\"}, \"y\": {\"type\": \"quantitative\", \"aggregate\": \"count\"}}}, {\"data\": {\"name\": \"data-8cba64e82534fa53cc088c60f4675135\"}, \"mark\": \"bar\", \"encoding\": {\"x\": {\"type\": \"quantitative\", \"bin\": true, \"field\": \"Weight\"}, \"y\": {\"type\": \"quantitative\", \"aggregate\": \"count\"}}}], \"$schema\": \"https://vega.github.io/schema/vega-lite/v4.8.1.json\", \"datasets\": {\"data-cafcccdfa6bd686cf2072ffb1e38fcee\": [{\"MinPrice\": 12.9}, {\"MinPrice\": 29.2}, {\"MinPrice\": 25.9}, {\"MinPrice\": 30.8}, {\"MinPrice\": 23.7}, {\"MinPrice\": 14.2}, {\"MinPrice\": 19.9}, {\"MinPrice\": 22.6}, {\"MinPrice\": 26.3}, {\"MinPrice\": 33.0}, {\"MinPrice\": 37.5}, {\"MinPrice\": 8.5}, {\"MinPrice\": 11.4}, {\"MinPrice\": 13.4}, {\"MinPrice\": 13.4}, {\"MinPrice\": 14.7}, {\"MinPrice\": 14.7}, {\"MinPrice\": 18.0}, {\"MinPrice\": 34.6}, {\"MinPrice\": 18.4}, {\"MinPrice\": 14.5}, {\"MinPrice\": 29.5}, {\"MinPrice\": 7.9}, {\"MinPrice\": 8.4}, {\"MinPrice\": 11.9}, {\"MinPrice\": 13.6}, {\"MinPrice\": 14.8}, {\"MinPrice\": 18.5}, {\"MinPrice\": 7.9}, {\"MinPrice\": 17.5}, {\"MinPrice\": 6.9}, {\"MinPrice\": 8.4}, {\"MinPrice\": 10.4}, {\"MinPrice\": 10.8}, {\"MinPrice\": 12.8}, {\"MinPrice\": 14.5}, {\"MinPrice\": 15.6}, {\"MinPrice\": 20.1}, {\"MinPrice\": 6.7}, {\"MinPrice\": 11.5}, {\"MinPrice\": 17.0}, {\"MinPrice\": 8.4}, {\"MinPrice\": 13.8}, {\"MinPrice\": 6.8}, {\"MinPrice\": 9.0}, {\"MinPrice\": 9.1}, {\"MinPrice\": 12.4}, {\"MinPrice\": 45.4}, {\"MinPrice\": 27.5}, {\"MinPrice\": 34.7}, {\"MinPrice\": 33.3}, {\"MinPrice\": 34.4}, {\"MinPrice\": 7.4}, {\"MinPrice\": 10.9}, {\"MinPrice\": 14.3}, {\"MinPrice\": 16.6}, {\"MinPrice\": 32.5}, {\"MinPrice\": 29.0}, {\"MinPrice\": 43.8}, {\"MinPrice\": 13.3}, {\"MinPrice\": 14.9}, {\"MinPrice\": 7.7}, {\"MinPrice\": 22.4}, {\"MinPrice\": 8.7}, {\"MinPrice\": 13.0}, {\"MinPrice\": 16.7}, {\"MinPrice\": 21.0}, {\"MinPrice\": 13.0}, {\"MinPrice\": 14.2}, {\"MinPrice\": 19.5}, {\"MinPrice\": 19.5}, {\"MinPrice\": 11.4}, {\"MinPrice\": 8.2}, {\"MinPrice\": 9.4}, {\"MinPrice\": 14.0}, {\"MinPrice\": 15.4}, {\"MinPrice\": 19.4}, {\"MinPrice\": 20.3}, {\"MinPrice\": 9.2}, {\"MinPrice\": 7.3}, {\"MinPrice\": 10.5}, {\"MinPrice\": 16.3}, {\"MinPrice\": 7.3}, {\"MinPrice\": 7.8}, {\"MinPrice\": 14.2}, {\"MinPrice\": 15.2}, {\"MinPrice\": 18.9}, {\"MinPrice\": 8.7}, {\"MinPrice\": 16.6}, {\"MinPrice\": 17.6}, {\"MinPrice\": 22.9}, {\"MinPrice\": 21.8}, {\"MinPrice\": 24.8}], \"data-39b74fa368192dd0d919839391dd816b\": [{\"Price\": 15.9}, {\"Price\": 33.9}, {\"Price\": 29.1}, {\"Price\": 37.7}, {\"Price\": 30.0}, {\"Price\": 15.7}, {\"Price\": 20.8}, {\"Price\": 23.7}, {\"Price\": 26.3}, {\"Price\": 34.7}, {\"Price\": 40.1}, {\"Price\": 13.4}, {\"Price\": 11.4}, {\"Price\": 15.1}, {\"Price\": 15.9}, {\"Price\": 16.3}, {\"Price\": 16.6}, {\"Price\": 18.8}, {\"Price\": 38.0}, {\"Price\": 18.4}, {\"Price\": 15.8}, {\"Price\": 29.5}, {\"Price\": 9.2}, {\"Price\": 11.3}, {\"Price\": 13.3}, {\"Price\": 19.0}, {\"Price\": 15.6}, {\"Price\": 25.8}, {\"Price\": 12.2}, {\"Price\": 19.3}, {\"Price\": 7.4}, {\"Price\": 10.1}, {\"Price\": 11.3}, {\"Price\": 15.9}, {\"Price\": 14.0}, {\"Price\": 19.9}, {\"Price\": 20.2}, {\"Price\": 20.9}, {\"Price\": 8.4}, {\"Price\": 12.5}, {\"Price\": 19.8}, {\"Price\": 12.1}, {\"Price\": 17.5}, {\"Price\": 8.0}, {\"Price\": 10.0}, {\"Price\": 10.0}, {\"Price\": 13.9}, {\"Price\": 47.9}, {\"Price\": 28.0}, {\"Price\": 35.2}, {\"Price\": 34.3}, {\"Price\": 36.1}, {\"Price\": 8.3}, {\"Price\": 11.6}, {\"Price\": 16.5}, {\"Price\": 19.1}, {\"Price\": 32.5}, {\"Price\": 31.9}, {\"Price\": 61.9}, {\"Price\": 14.1}, {\"Price\": 14.9}, {\"Price\": 10.3}, {\"Price\": 26.1}, {\"Price\": 11.8}, {\"Price\": 15.7}, {\"Price\": 19.1}, {\"Price\": 21.5}, {\"Price\": 13.5}, {\"Price\": 16.3}, {\"Price\": 19.5}, {\"Price\": 20.7}, {\"Price\": 14.4}, {\"Price\": 9.0}, {\"Price\": 11.1}, {\"Price\": 17.7}, {\"Price\": 18.5}, {\"Price\": 24.4}, {\"Price\": 28.7}, {\"Price\": 11.1}, {\"Price\": 8.4}, {\"Price\": 10.9}, {\"Price\": 19.5}, {\"Price\": 8.6}, {\"Price\": 9.8}, {\"Price\": 18.4}, {\"Price\": 18.2}, {\"Price\": 22.7}, {\"Price\": 9.1}, {\"Price\": 19.7}, {\"Price\": 20.0}, {\"Price\": 23.3}, {\"Price\": 22.7}, {\"Price\": 26.7}], \"data-414a035d06a3e979925ec69f6f6c63de\": [{\"MaxPrice\": 18.8}, {\"MaxPrice\": 38.7}, {\"MaxPrice\": 32.3}, {\"MaxPrice\": 44.6}, {\"MaxPrice\": 36.2}, {\"MaxPrice\": 17.3}, {\"MaxPrice\": 21.7}, {\"MaxPrice\": 24.9}, {\"MaxPrice\": 26.3}, {\"MaxPrice\": 36.3}, {\"MaxPrice\": 42.7}, {\"MaxPrice\": 18.3}, {\"MaxPrice\": 11.4}, {\"MaxPrice\": 16.8}, {\"MaxPrice\": 18.4}, {\"MaxPrice\": 18.0}, {\"MaxPrice\": 18.6}, {\"MaxPrice\": 19.6}, {\"MaxPrice\": 41.5}, {\"MaxPrice\": 18.4}, {\"MaxPrice\": 17.1}, {\"MaxPrice\": 29.5}, {\"MaxPrice\": 10.6}, {\"MaxPrice\": 14.2}, {\"MaxPrice\": 14.7}, {\"MaxPrice\": 24.4}, {\"MaxPrice\": 16.4}, {\"MaxPrice\": 33.1}, {\"MaxPrice\": 16.5}, {\"MaxPrice\": 21.2}, {\"MaxPrice\": 7.9}, {\"MaxPrice\": 11.9}, {\"MaxPrice\": 12.2}, {\"MaxPrice\": 21.0}, {\"MaxPrice\": 15.2}, {\"MaxPrice\": 25.3}, {\"MaxPrice\": 24.8}, {\"MaxPrice\": 21.7}, {\"MaxPrice\": 10.0}, {\"MaxPrice\": 13.5}, {\"MaxPrice\": 22.7}, {\"MaxPrice\": 15.8}, {\"MaxPrice\": 21.2}, {\"MaxPrice\": 9.2}, {\"MaxPrice\": 11.0}, {\"MaxPrice\": 11.0}, {\"MaxPrice\": 15.3}, {\"MaxPrice\": 50.4}, {\"MaxPrice\": 28.4}, {\"MaxPrice\": 35.6}, {\"MaxPrice\": 35.3}, {\"MaxPrice\": 37.8}, {\"MaxPrice\": 9.1}, {\"MaxPrice\": 12.3}, {\"MaxPrice\": 18.7}, {\"MaxPrice\": 21.7}, {\"MaxPrice\": 32.5}, {\"MaxPrice\": 34.9}, {\"MaxPrice\": 80.0}, {\"MaxPrice\": 15.0}, {\"MaxPrice\": 14.9}, {\"MaxPrice\": 12.9}, {\"MaxPrice\": 29.9}, {\"MaxPrice\": 14.9}, {\"MaxPrice\": 18.3}, {\"MaxPrice\": 21.5}, {\"MaxPrice\": 22.0}, {\"MaxPrice\": 14.0}, {\"MaxPrice\": 18.4}, {\"MaxPrice\": 19.5}, {\"MaxPrice\": 21.9}, {\"MaxPrice\": 17.4}, {\"MaxPrice\": 9.9}, {\"MaxPrice\": 12.8}, {\"MaxPrice\": 21.4}, {\"MaxPrice\": 21.6}, {\"MaxPrice\": 29.4}, {\"MaxPrice\": 37.1}, {\"MaxPrice\": 12.9}, {\"MaxPrice\": 9.5}, {\"MaxPrice\": 11.3}, {\"MaxPrice\": 22.7}, {\"MaxPrice\": 10.0}, {\"MaxPrice\": 11.8}, {\"MaxPrice\": 22.6}, {\"MaxPrice\": 21.2}, {\"MaxPrice\": 26.6}, {\"MaxPrice\": 9.5}, {\"MaxPrice\": 22.7}, {\"MaxPrice\": 22.4}, {\"MaxPrice\": 23.7}, {\"MaxPrice\": 23.5}, {\"MaxPrice\": 28.5}], \"data-56c06308c0df6dd8e8548e421ad941c7\": [{\"MPGcity\": 25}, {\"MPGcity\": 18}, {\"MPGcity\": 20}, {\"MPGcity\": 19}, {\"MPGcity\": 22}, {\"MPGcity\": 22}, {\"MPGcity\": 19}, {\"MPGcity\": 16}, {\"MPGcity\": 19}, {\"MPGcity\": 16}, {\"MPGcity\": 16}, {\"MPGcity\": 25}, {\"MPGcity\": 25}, {\"MPGcity\": 19}, {\"MPGcity\": 21}, {\"MPGcity\": 18}, {\"MPGcity\": 15}, {\"MPGcity\": 17}, {\"MPGcity\": 17}, {\"MPGcity\": 20}, {\"MPGcity\": 23}, {\"MPGcity\": 20}, {\"MPGcity\": 29}, {\"MPGcity\": 23}, {\"MPGcity\": 22}, {\"MPGcity\": 17}, {\"MPGcity\": 21}, {\"MPGcity\": 18}, {\"MPGcity\": 29}, {\"MPGcity\": 20}, {\"MPGcity\": 31}, {\"MPGcity\": 23}, {\"MPGcity\": 22}, {\"MPGcity\": 22}, {\"MPGcity\": 24}, {\"MPGcity\": 15}, {\"MPGcity\": 21}, {\"MPGcity\": 18}, {\"MPGcity\": 46}, {\"MPGcity\": 30}, {\"MPGcity\": 24}, {\"MPGcity\": 42}, {\"MPGcity\": 24}, {\"MPGcity\": 29}, {\"MPGcity\": 22}, {\"MPGcity\": 26}, {\"MPGcity\": 20}, {\"MPGcity\": 17}, {\"MPGcity\": 18}, {\"MPGcity\": 18}, {\"MPGcity\": 17}, {\"MPGcity\": 18}, {\"MPGcity\": 29}, {\"MPGcity\": 28}, {\"MPGcity\": 26}, {\"MPGcity\": 18}, {\"MPGcity\": 17}, {\"MPGcity\": 20}, {\"MPGcity\": 19}, {\"MPGcity\": 23}, {\"MPGcity\": 19}, {\"MPGcity\": 29}, {\"MPGcity\": 18}, {\"MPGcity\": 29}, {\"MPGcity\": 24}, {\"MPGcity\": 17}, {\"MPGcity\": 21}, {\"MPGcity\": 24}, {\"MPGcity\": 23}, {\"MPGcity\": 18}, {\"MPGcity\": 19}, {\"MPGcity\": 23}, {\"MPGcity\": 31}, {\"MPGcity\": 23}, {\"MPGcity\": 19}, {\"MPGcity\": 19}, {\"MPGcity\": 19}, {\"MPGcity\": 20}, {\"MPGcity\": 28}, {\"MPGcity\": 33}, {\"MPGcity\": 25}, {\"MPGcity\": 23}, {\"MPGcity\": 39}, {\"MPGcity\": 32}, {\"MPGcity\": 25}, {\"MPGcity\": 22}, {\"MPGcity\": 18}, {\"MPGcity\": 25}, {\"MPGcity\": 17}, {\"MPGcity\": 21}, {\"MPGcity\": 18}, {\"MPGcity\": 21}, {\"MPGcity\": 20}], \"data-276d91f2848d866130f1dd663f12692d\": [{\"MPGhighway\": 31}, {\"MPGhighway\": 25}, {\"MPGhighway\": 26}, {\"MPGhighway\": 26}, {\"MPGhighway\": 30}, {\"MPGhighway\": 31}, {\"MPGhighway\": 28}, {\"MPGhighway\": 25}, {\"MPGhighway\": 27}, {\"MPGhighway\": 25}, {\"MPGhighway\": 25}, {\"MPGhighway\": 36}, {\"MPGhighway\": 34}, {\"MPGhighway\": 28}, {\"MPGhighway\": 29}, {\"MPGhighway\": 23}, {\"MPGhighway\": 20}, {\"MPGhighway\": 26}, {\"MPGhighway\": 25}, {\"MPGhighway\": 28}, {\"MPGhighway\": 28}, {\"MPGhighway\": 26}, {\"MPGhighway\": 33}, {\"MPGhighway\": 29}, {\"MPGhighway\": 27}, {\"MPGhighway\": 21}, {\"MPGhighway\": 27}, {\"MPGhighway\": 24}, {\"MPGhighway\": 33}, {\"MPGhighway\": 28}, {\"MPGhighway\": 33}, {\"MPGhighway\": 30}, {\"MPGhighway\": 27}, {\"MPGhighway\": 29}, {\"MPGhighway\": 30}, {\"MPGhighway\": 20}, {\"MPGhighway\": 30}, {\"MPGhighway\": 26}, {\"MPGhighway\": 50}, {\"MPGhighway\": 36}, {\"MPGhighway\": 31}, {\"MPGhighway\": 46}, {\"MPGhighway\": 31}, {\"MPGhighway\": 33}, {\"MPGhighway\": 29}, {\"MPGhighway\": 34}, {\"MPGhighway\": 27}, {\"MPGhighway\": 22}, {\"MPGhighway\": 24}, {\"MPGhighway\": 23}, {\"MPGhighway\": 26}, {\"MPGhighway\": 26}, {\"MPGhighway\": 37}, {\"MPGhighway\": 36}, {\"MPGhighway\": 34}, {\"MPGhighway\": 24}, {\"MPGhighway\": 25}, {\"MPGhighway\": 29}, {\"MPGhighway\": 25}, {\"MPGhighway\": 26}, {\"MPGhighway\": 26}, {\"MPGhighway\": 33}, {\"MPGhighway\": 24}, {\"MPGhighway\": 33}, {\"MPGhighway\": 30}, {\"MPGhighway\": 23}, {\"MPGhighway\": 26}, {\"MPGhighway\": 31}, {\"MPGhighway\": 31}, {\"MPGhighway\": 23}, {\"MPGhighway\": 28}, {\"MPGhighway\": 30}, {\"MPGhighway\": 41}, {\"MPGhighway\": 31}, {\"MPGhighway\": 28}, {\"MPGhighway\": 27}, {\"MPGhighway\": 28}, {\"MPGhighway\": 26}, {\"MPGhighway\": 38}, {\"MPGhighway\": 37}, {\"MPGhighway\": 30}, {\"MPGhighway\": 30}, {\"MPGhighway\": 43}, {\"MPGhighway\": 37}, {\"MPGhighway\": 32}, {\"MPGhighway\": 29}, {\"MPGhighway\": 22}, {\"MPGhighway\": 33}, {\"MPGhighway\": 21}, {\"MPGhighway\": 30}, {\"MPGhighway\": 25}, {\"MPGhighway\": 28}, {\"MPGhighway\": 28}], \"data-7599a5fb7c5682a078a74ea42c4bf91e\": [{\"EngineSize\": 1.8}, {\"EngineSize\": 3.2}, {\"EngineSize\": 2.8}, {\"EngineSize\": 2.8}, {\"EngineSize\": 3.5}, {\"EngineSize\": 2.2}, {\"EngineSize\": 3.8}, {\"EngineSize\": 5.7}, {\"EngineSize\": 3.8}, {\"EngineSize\": 4.9}, {\"EngineSize\": 4.6}, {\"EngineSize\": 2.2}, {\"EngineSize\": 2.2}, {\"EngineSize\": 3.4}, {\"EngineSize\": 2.2}, {\"EngineSize\": 3.8}, {\"EngineSize\": 4.3}, {\"EngineSize\": 5.0}, {\"EngineSize\": 5.7}, {\"EngineSize\": 3.3}, {\"EngineSize\": 3.0}, {\"EngineSize\": 3.3}, {\"EngineSize\": 1.5}, {\"EngineSize\": 2.2}, {\"EngineSize\": 2.5}, {\"EngineSize\": 3.0}, {\"EngineSize\": 2.5}, {\"EngineSize\": 3.0}, {\"EngineSize\": 1.5}, {\"EngineSize\": 3.5}, {\"EngineSize\": 1.3}, {\"EngineSize\": 1.8}, {\"EngineSize\": 2.3}, {\"EngineSize\": 2.3}, {\"EngineSize\": 2.0}, {\"EngineSize\": 3.0}, {\"EngineSize\": 3.0}, {\"EngineSize\": 4.6}, {\"EngineSize\": 1.0}, {\"EngineSize\": 1.6}, {\"EngineSize\": 2.3}, {\"EngineSize\": 1.5}, {\"EngineSize\": 2.2}, {\"EngineSize\": 1.5}, {\"EngineSize\": 1.8}, {\"EngineSize\": 1.5}, {\"EngineSize\": 2.0}, {\"EngineSize\": 4.5}, {\"EngineSize\": 3.0}, {\"EngineSize\": 3.0}, {\"EngineSize\": 3.8}, {\"EngineSize\": 4.6}, {\"EngineSize\": 1.6}, {\"EngineSize\": 1.8}, {\"EngineSize\": 2.5}, {\"EngineSize\": 3.0}, {\"EngineSize\": 1.3}, {\"EngineSize\": 2.3}, {\"EngineSize\": 3.2}, {\"EngineSize\": 1.6}, {\"EngineSize\": 3.8}, {\"EngineSize\": 1.5}, {\"EngineSize\": 3.0}, {\"EngineSize\": 1.6}, {\"EngineSize\": 2.4}, {\"EngineSize\": 3.0}, {\"EngineSize\": 3.0}, {\"EngineSize\": 2.3}, {\"EngineSize\": 2.2}, {\"EngineSize\": 3.8}, {\"EngineSize\": 3.8}, {\"EngineSize\": 1.8}, {\"EngineSize\": 1.6}, {\"EngineSize\": 2.0}, {\"EngineSize\": 3.4}, {\"EngineSize\": 3.4}, {\"EngineSize\": 3.8}, {\"EngineSize\": 2.1}, {\"EngineSize\": 1.9}, {\"EngineSize\": 1.2}, {\"EngineSize\": 1.8}, {\"EngineSize\": 2.2}, {\"EngineSize\": 1.3}, {\"EngineSize\": 1.5}, {\"EngineSize\": 2.2}, {\"EngineSize\": 2.2}, {\"EngineSize\": 2.4}, {\"EngineSize\": 1.8}, {\"EngineSize\": 2.5}, {\"EngineSize\": 2.0}, {\"EngineSize\": 2.8}, {\"EngineSize\": 2.3}, {\"EngineSize\": 2.4}], \"data-5b9e453bd65038efce4b35ee998aeeee\": [{\"Horsepower\": 140}, {\"Horsepower\": 200}, {\"Horsepower\": 172}, {\"Horsepower\": 172}, {\"Horsepower\": 208}, {\"Horsepower\": 110}, {\"Horsepower\": 170}, {\"Horsepower\": 180}, {\"Horsepower\": 170}, {\"Horsepower\": 200}, {\"Horsepower\": 295}, {\"Horsepower\": 110}, {\"Horsepower\": 110}, {\"Horsepower\": 160}, {\"Horsepower\": 110}, {\"Horsepower\": 170}, {\"Horsepower\": 165}, {\"Horsepower\": 170}, {\"Horsepower\": 300}, {\"Horsepower\": 153}, {\"Horsepower\": 141}, {\"Horsepower\": 147}, {\"Horsepower\": 92}, {\"Horsepower\": 93}, {\"Horsepower\": 100}, {\"Horsepower\": 142}, {\"Horsepower\": 100}, {\"Horsepower\": 300}, {\"Horsepower\": 92}, {\"Horsepower\": 214}, {\"Horsepower\": 63}, {\"Horsepower\": 127}, {\"Horsepower\": 96}, {\"Horsepower\": 105}, {\"Horsepower\": 115}, {\"Horsepower\": 145}, {\"Horsepower\": 140}, {\"Horsepower\": 190}, {\"Horsepower\": 55}, {\"Horsepower\": 90}, {\"Horsepower\": 160}, {\"Horsepower\": 102}, {\"Horsepower\": 140}, {\"Horsepower\": 81}, {\"Horsepower\": 124}, {\"Horsepower\": 92}, {\"Horsepower\": 128}, {\"Horsepower\": 278}, {\"Horsepower\": 185}, {\"Horsepower\": 225}, {\"Horsepower\": 160}, {\"Horsepower\": 210}, {\"Horsepower\": 82}, {\"Horsepower\": 103}, {\"Horsepower\": 164}, {\"Horsepower\": 155}, {\"Horsepower\": 255}, {\"Horsepower\": 130}, {\"Horsepower\": 217}, {\"Horsepower\": 100}, {\"Horsepower\": 140}, {\"Horsepower\": 92}, {\"Horsepower\": 202}, {\"Horsepower\": 110}, {\"Horsepower\": 150}, {\"Horsepower\": 151}, {\"Horsepower\": 160}, {\"Horsepower\": 155}, {\"Horsepower\": 110}, {\"Horsepower\": 170}, {\"Horsepower\": 170}, {\"Horsepower\": 92}, {\"Horsepower\": 74}, {\"Horsepower\": 110}, {\"Horsepower\": 160}, {\"Horsepower\": 200}, {\"Horsepower\": 170}, {\"Horsepower\": 140}, {\"Horsepower\": 85}, {\"Horsepower\": 73}, {\"Horsepower\": 90}, {\"Horsepower\": 130}, {\"Horsepower\": 70}, {\"Horsepower\": 82}, {\"Horsepower\": 135}, {\"Horsepower\": 130}, {\"Horsepower\": 138}, {\"Horsepower\": 81}, {\"Horsepower\": 109}, {\"Horsepower\": 134}, {\"Horsepower\": 178}, {\"Horsepower\": 114}, {\"Horsepower\": 168}], \"data-d2c915a8b059b978f62ea25ae75bd7fd\": [{\"RPM\": 6300}, {\"RPM\": 5500}, {\"RPM\": 5500}, {\"RPM\": 5500}, {\"RPM\": 5700}, {\"RPM\": 5200}, {\"RPM\": 4800}, {\"RPM\": 4000}, {\"RPM\": 4800}, {\"RPM\": 4100}, {\"RPM\": 6000}, {\"RPM\": 5200}, {\"RPM\": 5200}, {\"RPM\": 4600}, {\"RPM\": 5200}, {\"RPM\": 4800}, {\"RPM\": 4000}, {\"RPM\": 4200}, {\"RPM\": 5000}, {\"RPM\": 5300}, {\"RPM\": 5000}, {\"RPM\": 4800}, {\"RPM\": 6000}, {\"RPM\": 4800}, {\"RPM\": 4800}, {\"RPM\": 5000}, {\"RPM\": 4800}, {\"RPM\": 6000}, {\"RPM\": 6000}, {\"RPM\": 5800}, {\"RPM\": 5000}, {\"RPM\": 6500}, {\"RPM\": 4200}, {\"RPM\": 4600}, {\"RPM\": 5500}, {\"RPM\": 4800}, {\"RPM\": 4800}, {\"RPM\": 4200}, {\"RPM\": 5700}, {\"RPM\": 5400}, {\"RPM\": 5800}, {\"RPM\": 5900}, {\"RPM\": 5600}, {\"RPM\": 5500}, {\"RPM\": 6000}, {\"RPM\": 5550}, {\"RPM\": 6000}, {\"RPM\": 6000}, {\"RPM\": 5200}, {\"RPM\": 6000}, {\"RPM\": 4400}, {\"RPM\": 4600}, {\"RPM\": 5000}, {\"RPM\": 5500}, {\"RPM\": 5600}, {\"RPM\": 5000}, {\"RPM\": 6500}, {\"RPM\": 5100}, {\"RPM\": 5500}, {\"RPM\": 5750}, {\"RPM\": 3800}, {\"RPM\": 6000}, {\"RPM\": 6000}, {\"RPM\": 6000}, {\"RPM\": 5600}, {\"RPM\": 4800}, {\"RPM\": 5200}, {\"RPM\": 6000}, {\"RPM\": 5200}, {\"RPM\": 4800}, {\"RPM\": 4800}, {\"RPM\": 5000}, {\"RPM\": 5600}, {\"RPM\": 5200}, {\"RPM\": 4600}, {\"RPM\": 5000}, {\"RPM\": 4800}, {\"RPM\": 6000}, {\"RPM\": 5000}, {\"RPM\": 5600}, {\"RPM\": 5200}, {\"RPM\": 5600}, {\"RPM\": 6000}, {\"RPM\": 5200}, {\"RPM\": 5400}, {\"RPM\": 5400}, {\"RPM\": 5000}, {\"RPM\": 5500}, {\"RPM\": 4500}, {\"RPM\": 5800}, {\"RPM\": 5800}, {\"RPM\": 5400}, {\"RPM\": 6200}], \"data-13de0785be6e1cff57718194910e0018\": [{\"Revpermile\": 2890}, {\"Revpermile\": 2335}, {\"Revpermile\": 2280}, {\"Revpermile\": 2535}, {\"Revpermile\": 2545}, {\"Revpermile\": 2565}, {\"Revpermile\": 1570}, {\"Revpermile\": 1320}, {\"Revpermile\": 1690}, {\"Revpermile\": 1510}, {\"Revpermile\": 1985}, {\"Revpermile\": 2380}, {\"Revpermile\": 2665}, {\"Revpermile\": 1805}, {\"Revpermile\": 2595}, {\"Revpermile\": 1690}, {\"Revpermile\": 1790}, {\"Revpermile\": 1350}, {\"Revpermile\": 1450}, {\"Revpermile\": 1990}, {\"Revpermile\": 2090}, {\"Revpermile\": 1785}, {\"Revpermile\": 3285}, {\"Revpermile\": 2595}, {\"Revpermile\": 2535}, {\"Revpermile\": 1970}, {\"Revpermile\": 2465}, {\"Revpermile\": 2120}, {\"Revpermile\": 2505}, {\"Revpermile\": 1980}, {\"Revpermile\": 3150}, {\"Revpermile\": 2410}, {\"Revpermile\": 2805}, {\"Revpermile\": 2285}, {\"Revpermile\": 2340}, {\"Revpermile\": 2080}, {\"Revpermile\": 1885}, {\"Revpermile\": 1415}, {\"Revpermile\": 3755}, {\"Revpermile\": 3250}, {\"Revpermile\": 2855}, {\"Revpermile\": 2650}, {\"Revpermile\": 2610}, {\"Revpermile\": 2710}, {\"Revpermile\": 2745}, {\"Revpermile\": 2540}, {\"Revpermile\": 2335}, {\"Revpermile\": 1955}, {\"Revpermile\": 2325}, {\"Revpermile\": 2510}, {\"Revpermile\": 1835}, {\"Revpermile\": 1840}, {\"Revpermile\": 2370}, {\"Revpermile\": 2220}, {\"Revpermile\": 2505}, {\"Revpermile\": 2240}, {\"Revpermile\": 2325}, {\"Revpermile\": 2425}, {\"Revpermile\": 2220}, {\"Revpermile\": 2475}, {\"Revpermile\": 1730}, {\"Revpermile\": 2505}, {\"Revpermile\": 2210}, {\"Revpermile\": 2435}, {\"Revpermile\": 2130}, {\"Revpermile\": 2065}, {\"Revpermile\": 2045}, {\"Revpermile\": 2380}, {\"Revpermile\": 2565}, {\"Revpermile\": 1690}, {\"Revpermile\": 1570}, {\"Revpermile\": 2360}, {\"Revpermile\": 3130}, {\"Revpermile\": 2665}, {\"Revpermile\": 1805}, {\"Revpermile\": 1890}, {\"Revpermile\": 1565}, {\"Revpermile\": 2910}, {\"Revpermile\": 2145}, {\"Revpermile\": 2875}, {\"Revpermile\": 3375}, {\"Revpermile\": 2330}, {\"Revpermile\": 3360}, {\"Revpermile\": 3505}, {\"Revpermile\": 2405}, {\"Revpermile\": 2340}, {\"Revpermile\": 2515}, {\"Revpermile\": 2550}, {\"Revpermile\": 2915}, {\"Revpermile\": 2685}, {\"Revpermile\": 2385}, {\"Revpermile\": 2215}, {\"Revpermile\": 2310}], \"data-e4cab2bc63e7626df3f469c9ff38cfb0\": [{\"Fueltankcapacity\": 13.2}, {\"Fueltankcapacity\": 18.0}, {\"Fueltankcapacity\": 16.9}, {\"Fueltankcapacity\": 21.1}, {\"Fueltankcapacity\": 21.1}, {\"Fueltankcapacity\": 16.4}, {\"Fueltankcapacity\": 18.0}, {\"Fueltankcapacity\": 23.0}, {\"Fueltankcapacity\": 18.8}, {\"Fueltankcapacity\": 18.0}, {\"Fueltankcapacity\": 20.0}, {\"Fueltankcapacity\": 15.2}, {\"Fueltankcapacity\": 15.6}, {\"Fueltankcapacity\": 15.5}, {\"Fueltankcapacity\": 16.5}, {\"Fueltankcapacity\": 20.0}, {\"Fueltankcapacity\": 27.0}, {\"Fueltankcapacity\": 23.0}, {\"Fueltankcapacity\": 20.0}, {\"Fueltankcapacity\": 18.0}, {\"Fueltankcapacity\": 16.0}, {\"Fueltankcapacity\": 16.0}, {\"Fueltankcapacity\": 13.2}, {\"Fueltankcapacity\": 14.0}, {\"Fueltankcapacity\": 16.0}, {\"Fueltankcapacity\": 20.0}, {\"Fueltankcapacity\": 16.0}, {\"Fueltankcapacity\": 19.8}, {\"Fueltankcapacity\": 13.2}, {\"Fueltankcapacity\": 18.0}, {\"Fueltankcapacity\": 10.0}, {\"Fueltankcapacity\": 13.2}, {\"Fueltankcapacity\": 15.9}, {\"Fueltankcapacity\": 15.4}, {\"Fueltankcapacity\": 15.5}, {\"Fueltankcapacity\": 21.0}, {\"Fueltankcapacity\": 16.0}, {\"Fueltankcapacity\": 20.0}, {\"Fueltankcapacity\": 10.6}, {\"Fueltankcapacity\": 12.4}, {\"Fueltankcapacity\": 15.9}, {\"Fueltankcapacity\": 11.9}, {\"Fueltankcapacity\": 17.0}, {\"Fueltankcapacity\": 11.9}, {\"Fueltankcapacity\": 13.7}, {\"Fueltankcapacity\": 11.9}, {\"Fueltankcapacity\": 17.2}, {\"Fueltankcapacity\": 22.5}, {\"Fueltankcapacity\": 18.5}, {\"Fueltankcapacity\": 20.6}, {\"Fueltankcapacity\": 18.4}, {\"Fueltankcapacity\": 20.0}, {\"Fueltankcapacity\": 13.2}, {\"Fueltankcapacity\": 14.5}, {\"Fueltankcapacity\": 15.5}, {\"Fueltankcapacity\": 19.6}, {\"Fueltankcapacity\": 20.0}, {\"Fueltankcapacity\": 14.5}, {\"Fueltankcapacity\": 18.5}, {\"Fueltankcapacity\": 11.1}, {\"Fueltankcapacity\": 18.0}, {\"Fueltankcapacity\": 13.2}, {\"Fueltankcapacity\": 19.0}, {\"Fueltankcapacity\": 13.2}, {\"Fueltankcapacity\": 15.9}, {\"Fueltankcapacity\": 20.0}, {\"Fueltankcapacity\": 18.5}, {\"Fueltankcapacity\": 15.2}, {\"Fueltankcapacity\": 16.5}, {\"Fueltankcapacity\": 20.0}, {\"Fueltankcapacity\": 18.0}, {\"Fueltankcapacity\": 15.9}, {\"Fueltankcapacity\": 13.2}, {\"Fueltankcapacity\": 15.2}, {\"Fueltankcapacity\": 15.5}, {\"Fueltankcapacity\": 16.5}, {\"Fueltankcapacity\": 18.0}, {\"Fueltankcapacity\": 18.0}, {\"Fueltankcapacity\": 12.8}, {\"Fueltankcapacity\": 9.2}, {\"Fueltankcapacity\": 15.9}, {\"Fueltankcapacity\": 15.9}, {\"Fueltankcapacity\": 10.6}, {\"Fueltankcapacity\": 11.9}, {\"Fueltankcapacity\": 15.9}, {\"Fueltankcapacity\": 18.5}, {\"Fueltankcapacity\": 19.8}, {\"Fueltankcapacity\": 12.4}, {\"Fueltankcapacity\": 21.1}, {\"Fueltankcapacity\": 18.5}, {\"Fueltankcapacity\": 18.5}, {\"Fueltankcapacity\": 15.8}, {\"Fueltankcapacity\": 19.3}], \"data-e5dffe8b2365bd34af70009623ae143e\": [{\"Passengers\": 5}, {\"Passengers\": 5}, {\"Passengers\": 5}, {\"Passengers\": 6}, {\"Passengers\": 4}, {\"Passengers\": 6}, {\"Passengers\": 6}, {\"Passengers\": 6}, {\"Passengers\": 5}, {\"Passengers\": 6}, {\"Passengers\": 5}, {\"Passengers\": 5}, {\"Passengers\": 5}, {\"Passengers\": 4}, {\"Passengers\": 6}, {\"Passengers\": 7}, {\"Passengers\": 8}, {\"Passengers\": 6}, {\"Passengers\": 2}, {\"Passengers\": 6}, {\"Passengers\": 6}, {\"Passengers\": 6}, {\"Passengers\": 5}, {\"Passengers\": 5}, {\"Passengers\": 6}, {\"Passengers\": 7}, {\"Passengers\": 6}, {\"Passengers\": 4}, {\"Passengers\": 5}, {\"Passengers\": 6}, {\"Passengers\": 4}, {\"Passengers\": 5}, {\"Passengers\": 5}, {\"Passengers\": 4}, {\"Passengers\": 4}, {\"Passengers\": 7}, {\"Passengers\": 5}, {\"Passengers\": 6}, {\"Passengers\": 4}, {\"Passengers\": 4}, {\"Passengers\": 4}, {\"Passengers\": 4}, {\"Passengers\": 4}, {\"Passengers\": 5}, {\"Passengers\": 5}, {\"Passengers\": 4}, {\"Passengers\": 5}, {\"Passengers\": 5}, {\"Passengers\": 5}, {\"Passengers\": 4}, {\"Passengers\": 6}, {\"Passengers\": 6}, {\"Passengers\": 4}, {\"Passengers\": 5}, {\"Passengers\": 5}, {\"Passengers\": 7}, {\"Passengers\": 2}, {\"Passengers\": 5}, {\"Passengers\": 5}, {\"Passengers\": 4}, {\"Passengers\": 5}, {\"Passengers\": 5}, {\"Passengers\": 5}, {\"Passengers\": 5}, {\"Passengers\": 5}, {\"Passengers\": 7}, {\"Passengers\": 5}, {\"Passengers\": 5}, {\"Passengers\": 5}, {\"Passengers\": 7}, {\"Passengers\": 6}, {\"Passengers\": 4}, {\"Passengers\": 4}, {\"Passengers\": 5}, {\"Passengers\": 4}, {\"Passengers\": 5}, {\"Passengers\": 6}, {\"Passengers\": 5}, {\"Passengers\": 5}, {\"Passengers\": 4}, {\"Passengers\": 5}, {\"Passengers\": 5}, {\"Passengers\": 4}, {\"Passengers\": 5}, {\"Passengers\": 4}, {\"Passengers\": 5}, {\"Passengers\": 7}, {\"Passengers\": 4}, {\"Passengers\": 7}, {\"Passengers\": 5}, {\"Passengers\": 4}, {\"Passengers\": 5}, {\"Passengers\": 5}], \"data-614525544d4ccc8b1e8f752c545c48b9\": [{\"Length\": 177}, {\"Length\": 195}, {\"Length\": 180}, {\"Length\": 193}, {\"Length\": 186}, {\"Length\": 189}, {\"Length\": 200}, {\"Length\": 216}, {\"Length\": 198}, {\"Length\": 206}, {\"Length\": 204}, {\"Length\": 182}, {\"Length\": 184}, {\"Length\": 193}, {\"Length\": 198}, {\"Length\": 178}, {\"Length\": 194}, {\"Length\": 214}, {\"Length\": 179}, {\"Length\": 203}, {\"Length\": 183}, {\"Length\": 203}, {\"Length\": 174}, {\"Length\": 172}, {\"Length\": 181}, {\"Length\": 175}, {\"Length\": 192}, {\"Length\": 180}, {\"Length\": 174}, {\"Length\": 202}, {\"Length\": 141}, {\"Length\": 171}, {\"Length\": 177}, {\"Length\": 180}, {\"Length\": 179}, {\"Length\": 176}, {\"Length\": 192}, {\"Length\": 212}, {\"Length\": 151}, {\"Length\": 164}, {\"Length\": 175}, {\"Length\": 173}, {\"Length\": 185}, {\"Length\": 168}, {\"Length\": 172}, {\"Length\": 166}, {\"Length\": 184}, {\"Length\": 200}, {\"Length\": 188}, {\"Length\": 191}, {\"Length\": 205}, {\"Length\": 219}, {\"Length\": 164}, {\"Length\": 172}, {\"Length\": 184}, {\"Length\": 190}, {\"Length\": 169}, {\"Length\": 175}, {\"Length\": 187}, {\"Length\": 166}, {\"Length\": 199}, {\"Length\": 172}, {\"Length\": 190}, {\"Length\": 170}, {\"Length\": 181}, {\"Length\": 190}, {\"Length\": 188}, {\"Length\": 188}, {\"Length\": 190}, {\"Length\": 194}, {\"Length\": 201}, {\"Length\": 173}, {\"Length\": 177}, {\"Length\": 181}, {\"Length\": 196}, {\"Length\": 195}, {\"Length\": 177}, {\"Length\": 184}, {\"Length\": 176}, {\"Length\": 146}, {\"Length\": 175}, {\"Length\": 179}, {\"Length\": 161}, {\"Length\": 162}, {\"Length\": 174}, {\"Length\": 188}, {\"Length\": 187}, {\"Length\": 163}, {\"Length\": 187}, {\"Length\": 180}, {\"Length\": 159}, {\"Length\": 190}, {\"Length\": 184}], \"data-81e0d9c53c9d23ec74914abeb9d00775\": [{\"Wheelbase\": 102}, {\"Wheelbase\": 115}, {\"Wheelbase\": 102}, {\"Wheelbase\": 106}, {\"Wheelbase\": 109}, {\"Wheelbase\": 105}, {\"Wheelbase\": 111}, {\"Wheelbase\": 116}, {\"Wheelbase\": 108}, {\"Wheelbase\": 114}, {\"Wheelbase\": 111}, {\"Wheelbase\": 101}, {\"Wheelbase\": 103}, {\"Wheelbase\": 101}, {\"Wheelbase\": 108}, {\"Wheelbase\": 110}, {\"Wheelbase\": 111}, {\"Wheelbase\": 116}, {\"Wheelbase\": 96}, {\"Wheelbase\": 113}, {\"Wheelbase\": 104}, {\"Wheelbase\": 110}, {\"Wheelbase\": 98}, {\"Wheelbase\": 97}, {\"Wheelbase\": 104}, {\"Wheelbase\": 112}, {\"Wheelbase\": 105}, {\"Wheelbase\": 97}, {\"Wheelbase\": 98}, {\"Wheelbase\": 113}, {\"Wheelbase\": 90}, {\"Wheelbase\": 98}, {\"Wheelbase\": 100}, {\"Wheelbase\": 101}, {\"Wheelbase\": 103}, {\"Wheelbase\": 119}, {\"Wheelbase\": 106}, {\"Wheelbase\": 114}, {\"Wheelbase\": 93}, {\"Wheelbase\": 97}, {\"Wheelbase\": 100}, {\"Wheelbase\": 103}, {\"Wheelbase\": 107}, {\"Wheelbase\": 94}, {\"Wheelbase\": 98}, {\"Wheelbase\": 94}, {\"Wheelbase\": 104}, {\"Wheelbase\": 113}, {\"Wheelbase\": 103}, {\"Wheelbase\": 106}, {\"Wheelbase\": 109}, {\"Wheelbase\": 117}, {\"Wheelbase\": 97}, {\"Wheelbase\": 98}, {\"Wheelbase\": 103}, {\"Wheelbase\": 110}, {\"Wheelbase\": 96}, {\"Wheelbase\": 105}, {\"Wheelbase\": 110}, {\"Wheelbase\": 95}, {\"Wheelbase\": 113}, {\"Wheelbase\": 98}, {\"Wheelbase\": 107}, {\"Wheelbase\": 96}, {\"Wheelbase\": 103}, {\"Wheelbase\": 112}, {\"Wheelbase\": 104}, {\"Wheelbase\": 103}, {\"Wheelbase\": 105}, {\"Wheelbase\": 110}, {\"Wheelbase\": 111}, {\"Wheelbase\": 97}, {\"Wheelbase\": 99}, {\"Wheelbase\": 101}, {\"Wheelbase\": 101}, {\"Wheelbase\": 108}, {\"Wheelbase\": 111}, {\"Wheelbase\": 99}, {\"Wheelbase\": 102}, {\"Wheelbase\": 90}, {\"Wheelbase\": 97}, {\"Wheelbase\": 102}, {\"Wheelbase\": 93}, {\"Wheelbase\": 94}, {\"Wheelbase\": 99}, {\"Wheelbase\": 103}, {\"Wheelbase\": 113}, {\"Wheelbase\": 93}, {\"Wheelbase\": 115}, {\"Wheelbase\": 103}, {\"Wheelbase\": 97}, {\"Wheelbase\": 104}, {\"Wheelbase\": 105}], \"data-df9bc53844cc0eb63e7849cf298de456\": [{\"Width\": 68}, {\"Width\": 71}, {\"Width\": 67}, {\"Width\": 70}, {\"Width\": 69}, {\"Width\": 69}, {\"Width\": 74}, {\"Width\": 78}, {\"Width\": 73}, {\"Width\": 73}, {\"Width\": 74}, {\"Width\": 66}, {\"Width\": 68}, {\"Width\": 74}, {\"Width\": 71}, {\"Width\": 74}, {\"Width\": 78}, {\"Width\": 77}, {\"Width\": 74}, {\"Width\": 74}, {\"Width\": 68}, {\"Width\": 69}, {\"Width\": 66}, {\"Width\": 67}, {\"Width\": 68}, {\"Width\": 72}, {\"Width\": 69}, {\"Width\": 72}, {\"Width\": 66}, {\"Width\": 74}, {\"Width\": 63}, {\"Width\": 67}, {\"Width\": 68}, {\"Width\": 68}, {\"Width\": 70}, {\"Width\": 72}, {\"Width\": 71}, {\"Width\": 78}, {\"Width\": 63}, {\"Width\": 67}, {\"Width\": 70}, {\"Width\": 67}, {\"Width\": 67}, {\"Width\": 63}, {\"Width\": 66}, {\"Width\": 64}, {\"Width\": 69}, {\"Width\": 72}, {\"Width\": 70}, {\"Width\": 71}, {\"Width\": 73}, {\"Width\": 77}, {\"Width\": 66}, {\"Width\": 66}, {\"Width\": 69}, {\"Width\": 72}, {\"Width\": 69}, {\"Width\": 67}, {\"Width\": 69}, {\"Width\": 65}, {\"Width\": 73}, {\"Width\": 67}, {\"Width\": 70}, {\"Width\": 66}, {\"Width\": 67}, {\"Width\": 74}, {\"Width\": 69}, {\"Width\": 67}, {\"Width\": 70}, {\"Width\": 74}, {\"Width\": 74}, {\"Width\": 67}, {\"Width\": 66}, {\"Width\": 66}, {\"Width\": 75}, {\"Width\": 72}, {\"Width\": 74}, {\"Width\": 67}, {\"Width\": 68}, {\"Width\": 60}, {\"Width\": 65}, {\"Width\": 67}, {\"Width\": 63}, {\"Width\": 65}, {\"Width\": 69}, {\"Width\": 70}, {\"Width\": 71}, {\"Width\": 63}, {\"Width\": 72}, {\"Width\": 67}, {\"Width\": 66}, {\"Width\": 67}, {\"Width\": 69}], \"data-3a656365d78836c4d2106a284df15d00\": [{\"Turncircle\": 37}, {\"Turncircle\": 38}, {\"Turncircle\": 37}, {\"Turncircle\": 37}, {\"Turncircle\": 39}, {\"Turncircle\": 41}, {\"Turncircle\": 42}, {\"Turncircle\": 45}, {\"Turncircle\": 41}, {\"Turncircle\": 43}, {\"Turncircle\": 44}, {\"Turncircle\": 38}, {\"Turncircle\": 39}, {\"Turncircle\": 43}, {\"Turncircle\": 40}, {\"Turncircle\": 44}, {\"Turncircle\": 42}, {\"Turncircle\": 42}, {\"Turncircle\": 43}, {\"Turncircle\": 40}, {\"Turncircle\": 41}, {\"Turncircle\": 44}, {\"Turncircle\": 32}, {\"Turncircle\": 38}, {\"Turncircle\": 39}, {\"Turncircle\": 42}, {\"Turncircle\": 42}, {\"Turncircle\": 40}, {\"Turncircle\": 36}, {\"Turncircle\": 40}, {\"Turncircle\": 33}, {\"Turncircle\": 36}, {\"Turncircle\": 39}, {\"Turncircle\": 40}, {\"Turncircle\": 38}, {\"Turncircle\": 45}, {\"Turncircle\": 40}, {\"Turncircle\": 43}, {\"Turncircle\": 34}, {\"Turncircle\": 37}, {\"Turncircle\": 39}, {\"Turncircle\": 36}, {\"Turncircle\": 41}, {\"Turncircle\": 35}, {\"Turncircle\": 36}, {\"Turncircle\": 34}, {\"Turncircle\": 41}, {\"Turncircle\": 42}, {\"Turncircle\": 40}, {\"Turncircle\": 39}, {\"Turncircle\": 42}, {\"Turncircle\": 45}, {\"Turncircle\": 34}, {\"Turncircle\": 36}, {\"Turncircle\": 40}, {\"Turncircle\": 39}, {\"Turncircle\": 37}, {\"Turncircle\": 34}, {\"Turncircle\": 37}, {\"Turncircle\": 36}, {\"Turncircle\": 38}, {\"Turncircle\": 36}, {\"Turncircle\": 43}, {\"Turncircle\": 33}, {\"Turncircle\": 40}, {\"Turncircle\": 41}, {\"Turncircle\": 41}, {\"Turncircle\": 39}, {\"Turncircle\": 42}, {\"Turncircle\": 44}, {\"Turncircle\": 42}, {\"Turncircle\": 39}, {\"Turncircle\": 35}, {\"Turncircle\": 39}, {\"Turncircle\": 43}, {\"Turncircle\": 41}, {\"Turncircle\": 43}, {\"Turncircle\": 37}, {\"Turncircle\": 40}, {\"Turncircle\": 32}, {\"Turncircle\": 35}, {\"Turncircle\": 37}, {\"Turncircle\": 34}, {\"Turncircle\": 36}, {\"Turncircle\": 39}, {\"Turncircle\": 38}, {\"Turncircle\": 41}, {\"Turncircle\": 34}, {\"Turncircle\": 38}, {\"Turncircle\": 35}, {\"Turncircle\": 36}, {\"Turncircle\": 37}, {\"Turncircle\": 38}], \"data-0b863434ebfec0387ee28a45b92a687e\": [{\"Rearseatroom\": 26.5}, {\"Rearseatroom\": 30.0}, {\"Rearseatroom\": 28.0}, {\"Rearseatroom\": 31.0}, {\"Rearseatroom\": 27.0}, {\"Rearseatroom\": 28.0}, {\"Rearseatroom\": 30.5}, {\"Rearseatroom\": 30.5}, {\"Rearseatroom\": 26.5}, {\"Rearseatroom\": 35.0}, {\"Rearseatroom\": 31.0}, {\"Rearseatroom\": 25.0}, {\"Rearseatroom\": 26.0}, {\"Rearseatroom\": 25.0}, {\"Rearseatroom\": 28.5}, {\"Rearseatroom\": 30.5}, {\"Rearseatroom\": 33.5}, {\"Rearseatroom\": 29.5}, {\"Rearseatroom\": null}, {\"Rearseatroom\": 31.0}, {\"Rearseatroom\": 30.5}, {\"Rearseatroom\": 36.0}, {\"Rearseatroom\": 26.5}, {\"Rearseatroom\": 26.5}, {\"Rearseatroom\": 30.5}, {\"Rearseatroom\": 26.5}, {\"Rearseatroom\": 30.5}, {\"Rearseatroom\": 20.0}, {\"Rearseatroom\": 26.5}, {\"Rearseatroom\": 30.0}, {\"Rearseatroom\": 26.0}, {\"Rearseatroom\": 28.0}, {\"Rearseatroom\": 27.5}, {\"Rearseatroom\": 24.0}, {\"Rearseatroom\": 23.0}, {\"Rearseatroom\": 30.0}, {\"Rearseatroom\": 27.5}, {\"Rearseatroom\": 30.0}, {\"Rearseatroom\": 27.5}, {\"Rearseatroom\": 24.5}, {\"Rearseatroom\": 23.5}, {\"Rearseatroom\": 28.0}, {\"Rearseatroom\": 28.0}, {\"Rearseatroom\": 26.0}, {\"Rearseatroom\": 28.0}, {\"Rearseatroom\": 23.5}, {\"Rearseatroom\": 31.0}, {\"Rearseatroom\": 29.0}, {\"Rearseatroom\": 27.5}, {\"Rearseatroom\": 25.0}, {\"Rearseatroom\": 30.0}, {\"Rearseatroom\": 31.5}, {\"Rearseatroom\": 27.0}, {\"Rearseatroom\": 26.5}, {\"Rearseatroom\": 29.5}, {\"Rearseatroom\": 27.5}, {\"Rearseatroom\": null}, {\"Rearseatroom\": 26.0}, {\"Rearseatroom\": 27.0}, {\"Rearseatroom\": 19.0}, {\"Rearseatroom\": 28.0}, {\"Rearseatroom\": 26.0}, {\"Rearseatroom\": 27.5}, {\"Rearseatroom\": 26.0}, {\"Rearseatroom\": 28.5}, {\"Rearseatroom\": 27.0}, {\"Rearseatroom\": 28.5}, {\"Rearseatroom\": 28.0}, {\"Rearseatroom\": 28.0}, {\"Rearseatroom\": 30.5}, {\"Rearseatroom\": 31.5}, {\"Rearseatroom\": 24.5}, {\"Rearseatroom\": 25.5}, {\"Rearseatroom\": 25.0}, {\"Rearseatroom\": 25.0}, {\"Rearseatroom\": 28.5}, {\"Rearseatroom\": 30.5}, {\"Rearseatroom\": 26.5}, {\"Rearseatroom\": 26.5}, {\"Rearseatroom\": 23.5}, {\"Rearseatroom\": 27.5}, {\"Rearseatroom\": 27.0}, {\"Rearseatroom\": 27.5}, {\"Rearseatroom\": 24.0}, {\"Rearseatroom\": 23.0}, {\"Rearseatroom\": 28.5}, {\"Rearseatroom\": 35.0}, {\"Rearseatroom\": 26.0}, {\"Rearseatroom\": 34.0}, {\"Rearseatroom\": 31.5}, {\"Rearseatroom\": 26.0}, {\"Rearseatroom\": 29.5}, {\"Rearseatroom\": 30.0}], \"data-5714835be3da649cfb576ebfd53eb2cb\": [{\"Luggageroom\": 11.0}, {\"Luggageroom\": 15.0}, {\"Luggageroom\": 14.0}, {\"Luggageroom\": 17.0}, {\"Luggageroom\": 13.0}, {\"Luggageroom\": 16.0}, {\"Luggageroom\": 17.0}, {\"Luggageroom\": 21.0}, {\"Luggageroom\": 14.0}, {\"Luggageroom\": 18.0}, {\"Luggageroom\": 14.0}, {\"Luggageroom\": 13.0}, {\"Luggageroom\": 14.0}, {\"Luggageroom\": 13.0}, {\"Luggageroom\": 16.0}, {\"Luggageroom\": null}, {\"Luggageroom\": null}, {\"Luggageroom\": 20.0}, {\"Luggageroom\": null}, {\"Luggageroom\": 15.0}, {\"Luggageroom\": 14.0}, {\"Luggageroom\": 17.0}, {\"Luggageroom\": 11.0}, {\"Luggageroom\": 13.0}, {\"Luggageroom\": 14.0}, {\"Luggageroom\": null}, {\"Luggageroom\": 16.0}, {\"Luggageroom\": 11.0}, {\"Luggageroom\": 11.0}, {\"Luggageroom\": 15.0}, {\"Luggageroom\": 12.0}, {\"Luggageroom\": 12.0}, {\"Luggageroom\": 13.0}, {\"Luggageroom\": 12.0}, {\"Luggageroom\": 18.0}, {\"Luggageroom\": null}, {\"Luggageroom\": 18.0}, {\"Luggageroom\": 21.0}, {\"Luggageroom\": 10.0}, {\"Luggageroom\": 11.0}, {\"Luggageroom\": 8.0}, {\"Luggageroom\": 12.0}, {\"Luggageroom\": 14.0}, {\"Luggageroom\": 11.0}, {\"Luggageroom\": 12.0}, {\"Luggageroom\": 9.0}, {\"Luggageroom\": 14.0}, {\"Luggageroom\": 15.0}, {\"Luggageroom\": 14.0}, {\"Luggageroom\": 9.0}, {\"Luggageroom\": 19.0}, {\"Luggageroom\": 22.0}, {\"Luggageroom\": 16.0}, {\"Luggageroom\": 13.0}, {\"Luggageroom\": 14.0}, {\"Luggageroom\": null}, {\"Luggageroom\": null}, {\"Luggageroom\": 12.0}, {\"Luggageroom\": 15.0}, {\"Luggageroom\": 6.0}, {\"Luggageroom\": 15.0}, {\"Luggageroom\": 11.0}, {\"Luggageroom\": 14.0}, {\"Luggageroom\": 12.0}, {\"Luggageroom\": 14.0}, {\"Luggageroom\": null}, {\"Luggageroom\": 14.0}, {\"Luggageroom\": 14.0}, {\"Luggageroom\": 16.0}, {\"Luggageroom\": null}, {\"Luggageroom\": 17.0}, {\"Luggageroom\": 8.0}, {\"Luggageroom\": 17.0}, {\"Luggageroom\": 13.0}, {\"Luggageroom\": 13.0}, {\"Luggageroom\": 16.0}, {\"Luggageroom\": 18.0}, {\"Luggageroom\": 14.0}, {\"Luggageroom\": 12.0}, {\"Luggageroom\": 10.0}, {\"Luggageroom\": 15.0}, {\"Luggageroom\": 14.0}, {\"Luggageroom\": 10.0}, {\"Luggageroom\": 11.0}, {\"Luggageroom\": 13.0}, {\"Luggageroom\": 15.0}, {\"Luggageroom\": null}, {\"Luggageroom\": 10.0}, {\"Luggageroom\": null}, {\"Luggageroom\": 14.0}, {\"Luggageroom\": 15.0}, {\"Luggageroom\": 14.0}, {\"Luggageroom\": 15.0}], \"data-8cba64e82534fa53cc088c60f4675135\": [{\"Weight\": 2705}, {\"Weight\": 3560}, {\"Weight\": 3375}, {\"Weight\": 3405}, {\"Weight\": 3640}, {\"Weight\": 2880}, {\"Weight\": 3470}, {\"Weight\": 4105}, {\"Weight\": 3495}, {\"Weight\": 3620}, {\"Weight\": 3935}, {\"Weight\": 2490}, {\"Weight\": 2785}, {\"Weight\": 3240}, {\"Weight\": 3195}, {\"Weight\": 3715}, {\"Weight\": 4025}, {\"Weight\": 3910}, {\"Weight\": 3380}, {\"Weight\": 3515}, {\"Weight\": 3085}, {\"Weight\": 3570}, {\"Weight\": 2270}, {\"Weight\": 2670}, {\"Weight\": 2970}, {\"Weight\": 3705}, {\"Weight\": 3080}, {\"Weight\": 3805}, {\"Weight\": 2295}, {\"Weight\": 3490}, {\"Weight\": 1845}, {\"Weight\": 2530}, {\"Weight\": 2690}, {\"Weight\": 2850}, {\"Weight\": 2710}, {\"Weight\": 3735}, {\"Weight\": 3325}, {\"Weight\": 3950}, {\"Weight\": 1695}, {\"Weight\": 2475}, {\"Weight\": 2865}, {\"Weight\": 2350}, {\"Weight\": 3040}, {\"Weight\": 2345}, {\"Weight\": 2620}, {\"Weight\": 2285}, {\"Weight\": 2885}, {\"Weight\": 4000}, {\"Weight\": 3510}, {\"Weight\": 3515}, {\"Weight\": 3695}, {\"Weight\": 4055}, {\"Weight\": 2325}, {\"Weight\": 2440}, {\"Weight\": 2970}, {\"Weight\": 3735}, {\"Weight\": 2895}, {\"Weight\": 2920}, {\"Weight\": 3525}, {\"Weight\": 2450}, {\"Weight\": 3610}, {\"Weight\": 2295}, {\"Weight\": 3730}, {\"Weight\": 2545}, {\"Weight\": 3050}, {\"Weight\": 4100}, {\"Weight\": 3200}, {\"Weight\": 2910}, {\"Weight\": 2890}, {\"Weight\": 3715}, {\"Weight\": 3470}, {\"Weight\": 2640}, {\"Weight\": 2350}, {\"Weight\": 2575}, {\"Weight\": 3240}, {\"Weight\": 3450}, {\"Weight\": 3495}, {\"Weight\": 2775}, {\"Weight\": 2495}, {\"Weight\": 2045}, {\"Weight\": 2490}, {\"Weight\": 3085}, {\"Weight\": 1965}, {\"Weight\": 2055}, {\"Weight\": 2950}, {\"Weight\": 3030}, {\"Weight\": 3785}, {\"Weight\": 2240}, {\"Weight\": 3960}, {\"Weight\": 2985}, {\"Weight\": 2810}, {\"Weight\": 2985}, {\"Weight\": 3245}]}}, {\"mode\": \"vega-lite\"});\n",
              "</script>"
            ]
          },
          "metadata": {
            "tags": []
          },
          "execution_count": 109
        }
      ]
    },
    {
      "cell_type": "code",
      "metadata": {
        "id": "GZhwO31QPzfF",
        "colab_type": "code",
        "colab": {}
      },
      "source": [
        ""
      ],
      "execution_count": 109,
      "outputs": []
    },
    {
      "cell_type": "code",
      "metadata": {
        "id": "jgz3h7E_P4de",
        "colab_type": "code",
        "colab": {}
      },
      "source": [
        ""
      ],
      "execution_count": null,
      "outputs": []
    }
  ]
}